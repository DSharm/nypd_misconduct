{
 "cells": [
  {
   "cell_type": "code",
   "execution_count": 20,
   "metadata": {},
   "outputs": [],
   "source": [
    "import numpy as np\n",
    "import matplotlib.pyplot as plt\n",
    "import scipy.io as sio\n",
    "import numpy.linalg as la\n",
    "import pandas as pd\n",
    "from scipy.linalg import svd\n",
    "from mpl_toolkits.mplot3d import Axes3D\n",
    "import random\n",
    "from pipeline import generate_basic_exploration"
   ]
  },
  {
   "cell_type": "code",
   "execution_count": 14,
   "metadata": {},
   "outputs": [],
   "source": [
    "df = pd.read_csv('allegations_cleaned2.csv')\n",
    "df = df.drop(columns='board_disposition')"
   ]
  },
  {
   "cell_type": "code",
   "execution_count": 87,
   "metadata": {},
   "outputs": [],
   "source": [
    "odf = pd.read_csv('officer_df.csv')"
   ]
  },
  {
   "cell_type": "code",
   "execution_count": 33,
   "metadata": {},
   "outputs": [],
   "source": [
    "officer_exclude_cols =  ['substantiated',\n",
    "                         'ever_charged']"
   ]
  },
  {
   "cell_type": "code",
   "execution_count": 5,
   "metadata": {},
   "outputs": [
    {
     "data": {
      "text/plain": [
       "3996"
      ]
     },
     "execution_count": 5,
     "metadata": {},
     "output_type": "execute_result"
    }
   ],
   "source": [
    "len(odf)"
   ]
  },
  {
   "cell_type": "code",
   "execution_count": 7,
   "metadata": {},
   "outputs": [
    {
     "data": {
      "text/plain": [
       "0.43743743743743746"
      ]
     },
     "execution_count": 7,
     "metadata": {},
     "output_type": "execute_result"
    }
   ],
   "source": [
    "np.mean(odf['ever_charged'])"
   ]
  },
  {
   "cell_type": "code",
   "execution_count": 64,
   "metadata": {},
   "outputs": [
    {
     "data": {
      "text/plain": [
       "296.2687211463517"
      ]
     },
     "execution_count": 64,
     "metadata": {},
     "output_type": "execute_result"
    }
   ],
   "source": [
    "np.mean(df['closure_time'])"
   ]
  },
  {
   "cell_type": "code",
   "execution_count": 9,
   "metadata": {},
   "outputs": [
    {
     "data": {
      "text/plain": [
       "(0.017767767767767766, 0.5147647647647647)"
      ]
     },
     "execution_count": 9,
     "metadata": {},
     "output_type": "execute_result"
    }
   ],
   "source": [
    "np.mean(odf['demotion']), np.mean(odf['promotion'])"
   ]
  },
  {
   "cell_type": "code",
   "execution_count": 42,
   "metadata": {},
   "outputs": [],
   "source": [
    "# helper functions\n",
    "def get_svd(trainX,regularization_param,param=0, verbose=False):\n",
    "    # Calculate truncated SVD\n",
    "    if verbose:\n",
    "        print('Generating SVD')\n",
    "    U, S, V = la.svd(trainX, full_matrices=False)\n",
    "#     print('Initial U: {}'.format(str(U[:5])))\n",
    "#     print('Initial S: {}'.format(str(S[:5])))\n",
    "#     print('Initial V: {}'.format(str(V[:5])))\n",
    "    \n",
    "    if regularization_param =='trunc':\n",
    "        # take inverse of each elemant\n",
    "        S_inv = np.reciprocal(S)\n",
    "#         print('First values of inverse: {}'.format(str(S_inv[:5])))\n",
    "        S_inv[param:] = 0\n",
    "    if regularization_param == 'rls':\n",
    "        S_inv = S/(np.square(S)+param)\n",
    "\n",
    "    new_S = np.zeros((U.T.shape[0],V.shape[0])) \n",
    "    np.fill_diagonal(new_S,S_inv)\n",
    "    if verbose:\n",
    "        print(V.T.shape, new_S.T.shape, U.T.shape)\n",
    "    w_hat = V.T@new_S.T@U.T\n",
    "\n",
    "    return w_hat\n",
    "    \n",
    "def key_min_val(d):\n",
    "#      a) create a list of the dict's keys and values; \n",
    "#      b) return the key with the min value\n",
    "    v=list(d.values())\n",
    "    k=list(d.keys())\n",
    "    \n",
    "    return k[v.index(min(v))]\n",
    "\n",
    "\n",
    "def rmse(y_hat, y):\n",
    "    return np.sqrt(((y_hat - y) ** 2).mean())\n",
    "\n",
    "def mse(y_hat, y):\n",
    "    return ((y_hat - y) ** 2).mean()\n",
    "\n",
    "\n",
    "\n",
    "def get_error_rate(w_hat,testX,testY,outcome_var_type):\n",
    "#     print('testX shape is {}, w_hat shape is {}'.format(testX.shape, w_hat.shape))\n",
    "    y_hat = testX@w_hat\n",
    "#     print(y_hat[:20])\n",
    "    \n",
    "    if outcome_var_type == \"binary\":\n",
    "        y_hat_encode = [0 if x <= 0.5\n",
    "                        else 1 \n",
    "                        for x in y_hat]\n",
    "        \n",
    "    if outcome_var_type == 'three-class':    \n",
    "        y_hat_encode = [-1 if x <= -0.5 \n",
    "                      else 0 if x > -0.5 and x < 0.5 \n",
    "                      else 1\n",
    "                     for x in y_hat]\n",
    "\n",
    "    if outcome_var_type not in (\"binary\", \"three-class\"):\n",
    "        return rmse(y_hat,testY)\n",
    "\n",
    "    else:\n",
    "        equal = np.sum(np.array(y_hat_encode).reshape(len(testY),) == np.array(testY).reshape(len(testY),))\n",
    "#         print(y_hat_encode[:5], testY[:5])\n",
    "#         print('sum y_hat_encode is {}'.format(sum(y_hat_encode)), \n",
    "#               'len y_hat_encode is {}'.format(len(y_hat_encode)))\n",
    "#         print('mean equal is {}'.format(equal.mean()))\n",
    "#         print('len testY = {}'.format(len(testY)))\n",
    "        error_rate = (len(testY)-equal)/len(testY)\n",
    "\n",
    "        return error_rate\n",
    "    "
   ]
  },
  {
   "cell_type": "code",
   "execution_count": 62,
   "metadata": {},
   "outputs": [],
   "source": [
    "def get_errors(df,regularization_param,outcome_var,outcome_var_type=\"binary\",\n",
    "               num_trials=10, officer_df=False, vb=False):\n",
    "    outer_error_rates = list()\n",
    "\n",
    "    outcomeList = ['outcome','demotion', 'closure_time',\n",
    "                   'promotion', 'officer_charged']\n",
    "    if officer_df:\n",
    "        outcomeList = ['substantiated', 'ever_charged', 'demotion',\n",
    "                       'officer_charged', 'promotion']\n",
    "    randomState = 2\n",
    "    for i in range(num_trials):\n",
    "        \n",
    "        inner_error_rates = dict()\n",
    "        \n",
    "        train,test = train_test_split(df,randomState=randomState, verbose=vb)\n",
    "        trainY = np.array(train[[outcome_var]])\n",
    "        trainX = np.array(train.drop(['officer_id','Unnamed: 0']+outcomeList,axis=1))\n",
    "        testY = np.array(test[[outcome_var]])\n",
    "        testX = np.array(test.drop(['officer_id','Unnamed: 0']+outcomeList,axis=1))\n",
    "        \n",
    "        randomState += 1\n",
    "\n",
    "        if regularization_param == \"trunc\":\n",
    "            for k in range(1,10):\n",
    "                w_hat = get_svd(trainX,\"trunc\",param=k, verbose=vb)@trainY\n",
    "                inner_error_rates[k] = get_error_rate(w_hat,testX,testY,outcome_var_type)\n",
    "\n",
    "        if regularization_param == \"rls\":\n",
    "            for lambda_ in np. array ([0 , 0.5 , 1, 2, 4, 8, 16]):\n",
    "                w_hat = get_svd(trainX,\"rls\",param=lambda_, verbose=vb)@trainY\n",
    "                inner_error_rates[lambda_] = get_error_rate(w_hat,testX,testY,outcome_var_type)\n",
    "\n",
    "        min_key = key_min_val(inner_error_rates)\n",
    "        outer_error_rates.append((min_key,inner_error_rates[min_key]))\n",
    "            \n",
    "    return outer_error_rates\n"
   ]
  },
  {
   "cell_type": "code",
   "execution_count": 39,
   "metadata": {},
   "outputs": [],
   "source": [
    "# Group train/test by officer ID somehow? See Piazza post\n",
    "def train_test_split(df,holdOut=0.2, randomState = 1, verbose=False):\n",
    "    # Train, val, test split:\n",
    "    # get number of unique ids and the uniqe IDs\n",
    "    n_ID = len(df.officer_id.unique())\n",
    "    ids = pd.DataFrame(df.officer_id.unique())\n",
    "\n",
    "    # sample from IDs\n",
    "    train_index = ids.sample(round(n_ID*(1-holdOut)),random_state = randomState ).values.tolist()\n",
    "    #train_index = [item for sublist in train_index for item in sublist]\n",
    "    train_index = [x[0] for x in train_index]\n",
    "    # train data is data from any IDs that show up in train index\n",
    "    train_data = df[df.officer_id.isin(train_index)]\n",
    "    # test data is data from any IDs that don't show up in train index\n",
    "    test_data = df[~df.officer_id.isin(train_index)]\n",
    "\n",
    "    # Sanity check\n",
    "    if verbose:\n",
    "        print(\"Total Number of Unique IDs:\" , len(df.officer_id.unique()))\n",
    "        print(\"Total Number of IDs in Test Data:\" , len(test_data.officer_id.unique()))\n",
    "        print(\"Total Number of IDs in Train Data:\" , len(train_data.officer_id.unique()))\n",
    "        print(\"Do the IDs add up?\" , len(test_data.officer_id.unique()) + len(train_data.officer_id.unique())  ==  len(df.officer_id.unique()))\n",
    "        print(\"Does Test Represent 20% of the data?\", (len(test_data.officer_id.unique())/len(df.officer_id.unique())) == holdOut)\n",
    "        print(\"Test Represents X% of the data:\", (len(test_data.officer_id.unique())/len(df.officer_id.unique())))\n",
    "    \n",
    "    return train_data, test_data"
   ]
  },
  {
   "cell_type": "code",
   "execution_count": 44,
   "metadata": {},
   "outputs": [],
   "source": [
    "ridge_closure = get_errors(df,regularization_param=\"rls\",outcome_var=\"closure_time\",\n",
    "                   outcome_var_type=\"time\", num_trials = 5)"
   ]
  },
  {
   "cell_type": "code",
   "execution_count": 45,
   "metadata": {},
   "outputs": [
    {
     "data": {
      "text/plain": [
       "[(2.0, 131.5778457861212),\n",
       " (1.0, 137.61129946435318),\n",
       " (16.0, 130.97976856682877),\n",
       " (0.5, 128.5108532952614),\n",
       " (0.5, 134.66732753731944)]"
      ]
     },
     "execution_count": 45,
     "metadata": {},
     "output_type": "execute_result"
    }
   ],
   "source": [
    "ridge_closure"
   ]
  },
  {
   "cell_type": "code",
   "execution_count": 48,
   "metadata": {},
   "outputs": [],
   "source": [
    "trunc_closure = get_errors(df,regularization_param=\"trunc\",outcome_var=\"closure_time\",\n",
    "                   outcome_var_type=\"time\", num_trials = 5)"
   ]
  },
  {
   "cell_type": "code",
   "execution_count": 49,
   "metadata": {},
   "outputs": [
    {
     "data": {
      "text/plain": [
       "[(9, 148.4993023563817),\n",
       " (9, 155.54348688428993),\n",
       " (9, 149.1783522445068),\n",
       " (9, 146.16344743252546),\n",
       " (9, 152.70707625702337)]"
      ]
     },
     "execution_count": 49,
     "metadata": {},
     "output_type": "execute_result"
    }
   ],
   "source": [
    "trunc_closure"
   ]
  },
  {
   "cell_type": "code",
   "execution_count": 51,
   "metadata": {},
   "outputs": [],
   "source": [
    "trunc_outcome = get_errors(df,regularization_param=\"trunc\",outcome_var=\"outcome\",\n",
    "                   outcome_var_type=\"three-class\", num_trials = 5)"
   ]
  },
  {
   "cell_type": "code",
   "execution_count": 52,
   "metadata": {},
   "outputs": [
    {
     "data": {
      "text/plain": [
       "[(9, 0.6990720913633119),\n",
       " (9, 0.7073674885575078),\n",
       " (9, 0.7173847544441097),\n",
       " (9, 0.6967836257309942),\n",
       " (9, 0.7112492770387507)]"
      ]
     },
     "execution_count": 52,
     "metadata": {},
     "output_type": "execute_result"
    }
   ],
   "source": [
    "trunc_outcome"
   ]
  },
  {
   "cell_type": "code",
   "execution_count": 53,
   "metadata": {},
   "outputs": [],
   "source": [
    "ridge_outcome = get_errors(df,regularization_param=\"rls\",outcome_var=\"outcome\",\n",
    "                   outcome_var_type=\"three-class\", num_trials = 5)"
   ]
  },
  {
   "cell_type": "code",
   "execution_count": 54,
   "metadata": {},
   "outputs": [
    {
     "data": {
      "text/plain": [
       "[(0.5, 0.5912919343326195),\n",
       " (0.0, 0.5989960135833456),\n",
       " (0.0, 0.5979210605604097),\n",
       " (0.0, 0.5752923976608187),\n",
       " (0.0, 0.6015037593984962)]"
      ]
     },
     "execution_count": 54,
     "metadata": {},
     "output_type": "execute_result"
    }
   ],
   "source": [
    "ridge_outcome"
   ]
  },
  {
   "cell_type": "code",
   "execution_count": 88,
   "metadata": {},
   "outputs": [],
   "source": [
    "o_ridge_ever_charged = get_errors(odf,regularization_param='rls',outcome_var='ever_charged',\n",
    "                                  outcome_var_type=\"binary\", num_trials=10, \n",
    "                                  officer_df=True, vb=False)\n",
    "o_trunc_ever_charged = get_errors(odf,regularization_param='trunc',outcome_var='ever_charged',\n",
    "                                  outcome_var_type=\"binary\", num_trials=10, \n",
    "                                  officer_df=True, vb=False)"
   ]
  },
  {
   "cell_type": "code",
   "execution_count": 89,
   "metadata": {},
   "outputs": [
    {
     "data": {
      "text/plain": [
       "([(1.0, 0.3341677096370463),\n",
       "  (2.0, 0.36795994993742176),\n",
       "  (0.0, 0.3379224030037547),\n",
       "  (16.0, 0.37296620775969963),\n",
       "  (4.0, 0.327909887359199),\n",
       "  (4.0, 0.344180225281602),\n",
       "  (16.0, 0.3541927409261577),\n",
       "  (8.0, 0.37922403003754696),\n",
       "  (1.0, 0.3579474342928661),\n",
       "  (8.0, 0.3642052565707134)],\n",
       " [(9, 0.37797246558197745),\n",
       "  (7, 0.40425531914893614),\n",
       "  (9, 0.36545682102628285),\n",
       "  (7, 0.3742177722152691),\n",
       "  (9, 0.36545682102628285),\n",
       "  (5, 0.37797246558197745),\n",
       "  (9, 0.3667083854818523),\n",
       "  (8, 0.38172715894868586),\n",
       "  (9, 0.3742177722152691),\n",
       "  (9, 0.3692115143929912)],\n",
       " 0.43743743743743746)"
      ]
     },
     "execution_count": 89,
     "metadata": {},
     "output_type": "execute_result"
    }
   ],
   "source": [
    "o_ridge_ever_charged, o_trunc_ever_charged, np.mean(odf['ever_charged'])"
   ]
  },
  {
   "cell_type": "code",
   "execution_count": 90,
   "metadata": {},
   "outputs": [],
   "source": [
    "o_ridge_promoted = get_errors(odf,regularization_param='rls',outcome_var='promotion',\n",
    "                                  outcome_var_type=\"binary\", num_trials=10, \n",
    "                                  officer_df=True, vb=False)\n",
    "o_trunc_promoted = get_errors(odf,regularization_param='trunc',outcome_var='promotion',\n",
    "                                  outcome_var_type=\"binary\", num_trials=10, \n",
    "                                  officer_df=True, vb=False)"
   ]
  },
  {
   "cell_type": "code",
   "execution_count": 99,
   "metadata": {},
   "outputs": [
    {
     "data": {
      "text/plain": [
       "([(9, 0.3742177722152691),\n",
       "  (9, 0.3667083854818523),\n",
       "  (8, 0.35544430538172717),\n",
       "  (9, 0.37546933667083854),\n",
       "  (9, 0.376720901126408),\n",
       "  (9, 0.34668335419274093),\n",
       "  (9, 0.3504380475594493),\n",
       "  (9, 0.3717146433041302),\n",
       "  (9, 0.33917396745932415),\n",
       "  (9, 0.327909887359199)],\n",
       " [(16.0, 0.2903629536921151),\n",
       "  (8.0, 0.3191489361702128),\n",
       "  (0.5, 0.3141426783479349),\n",
       "  (2.0, 0.3078848560700876),\n",
       "  (4.0, 0.3016270337922403),\n",
       "  (8.0, 0.2878598247809762),\n",
       "  (0.5, 0.27784730913642053),\n",
       "  (4.0, 0.3091364205256571),\n",
       "  (2.0, 0.3041301627033792),\n",
       "  (0.0, 0.28660826032540676)],\n",
       " 0.5147647647647647)"
      ]
     },
     "execution_count": 99,
     "metadata": {},
     "output_type": "execute_result"
    }
   ],
   "source": [
    "o_trunc_promoted, o_ridge_promoted, np.mean(odf['promotion'])"
   ]
  },
  {
   "cell_type": "code",
   "execution_count": 92,
   "metadata": {},
   "outputs": [],
   "source": [
    "o_ridge_demoted = get_errors(odf,regularization_param='rls',outcome_var='demotion',\n",
    "                                  outcome_var_type=\"binary\", num_trials=10, \n",
    "                                  officer_df=True, vb=False)\n",
    "o_trunc_demoted = get_errors(odf,regularization_param='trunc',outcome_var='demotion',\n",
    "                                  outcome_var_type=\"binary\", num_trials=10, \n",
    "                                  officer_df=True, vb=False)"
   ]
  },
  {
   "cell_type": "code",
   "execution_count": 93,
   "metadata": {},
   "outputs": [
    {
     "data": {
      "text/plain": [
       "([(1, 0.023779724655819776),\n",
       "  (1, 0.017521902377972465),\n",
       "  (1, 0.017521902377972465),\n",
       "  (1, 0.02002503128911139),\n",
       "  (1, 0.017521902377972465),\n",
       "  (1, 0.016270337922403004),\n",
       "  (1, 0.015018773466833541),\n",
       "  (1, 0.01877346683354193),\n",
       "  (1, 0.025031289111389236),\n",
       "  (1, 0.02002503128911139)],\n",
       " [(0.0, 0.023779724655819776),\n",
       "  (0.5, 0.017521902377972465),\n",
       "  (0.0, 0.017521902377972465),\n",
       "  (0.5, 0.02002503128911139),\n",
       "  (0.5, 0.017521902377972465),\n",
       "  (0.0, 0.016270337922403004),\n",
       "  (0.5, 0.015018773466833541),\n",
       "  (1.0, 0.01877346683354193),\n",
       "  (8.0, 0.026282853566958697),\n",
       "  (0.0, 0.02002503128911139)],\n",
       " 0.017767767767767766)"
      ]
     },
     "execution_count": 93,
     "metadata": {},
     "output_type": "execute_result"
    }
   ],
   "source": [
    "o_trunc_demoted, o_ridge_demoted, np.mean(odf['demotion'])"
   ]
  },
  {
   "cell_type": "code",
   "execution_count": 94,
   "metadata": {},
   "outputs": [],
   "source": [
    "o_trunc_substantiated = get_errors(odf,regularization_param='trunc',outcome_var='substantiated',\n",
    "                                  outcome_var_type=\"continuous\", num_trials=10, \n",
    "                                  officer_df=True, vb=False)\n",
    "o_ridge_substantiated = get_errors(odf,regularization_param='rls',outcome_var='substantiated',\n",
    "                                  outcome_var_type=\"continuous\", num_trials=10, \n",
    "                                  officer_df=True, vb=False)"
   ]
  },
  {
   "cell_type": "code",
   "execution_count": 96,
   "metadata": {},
   "outputs": [
    {
     "data": {
      "text/plain": [
       "([(9, 1.4445545601389942),\n",
       "  (9, 1.4662648699605993),\n",
       "  (5, 1.3666337344841948),\n",
       "  (9, 1.4429534947391456),\n",
       "  (7, 1.5661161972939974),\n",
       "  (7, 1.4166632670068346),\n",
       "  (9, 1.534965727536938),\n",
       "  (9, 1.4478032972957566),\n",
       "  (9, 1.3986373487005446),\n",
       "  (9, 1.5154031254523574)],\n",
       " [(16.0, 1.4872164868531255),\n",
       "  (16.0, 1.4349182735773764),\n",
       "  (16.0, 1.3823168045560326),\n",
       "  (16.0, 1.3822093372710078),\n",
       "  (16.0, 1.5000962538591305),\n",
       "  (16.0, 1.4334361716628754),\n",
       "  (16.0, 1.514022349840476),\n",
       "  (16.0, 1.4008208003330032),\n",
       "  (16.0, 1.394520810082202),\n",
       "  (16.0, 1.529046140451915)],\n",
       " 2.0773273273273274)"
      ]
     },
     "execution_count": 96,
     "metadata": {},
     "output_type": "execute_result"
    }
   ],
   "source": [
    "o_trunc_substantiated, o_ridge_substantiated, np.mean(odf['substantiated'])"
   ]
  },
  {
   "cell_type": "code",
   "execution_count": 97,
   "metadata": {},
   "outputs": [],
   "source": [
    "o_trunc_charged = get_errors(odf,regularization_param='trunc',outcome_var='officer_charged',\n",
    "                                  outcome_var_type=\"continuous\", num_trials=10, \n",
    "                                  officer_df=True, vb=False)\n",
    "o_ridge_charged = get_errors(odf,regularization_param='rls',outcome_var='officer_charged',\n",
    "                                  outcome_var_type=\"continuous\", num_trials=10, \n",
    "                                  officer_df=True, vb=False)"
   ]
  },
  {
   "cell_type": "code",
   "execution_count": 98,
   "metadata": {},
   "outputs": [
    {
     "data": {
      "text/plain": [
       "([(9, 1.3335991451183489),\n",
       "  (6, 1.5927084851564315),\n",
       "  (5, 1.4137456994490714),\n",
       "  (9, 1.4405635032738957),\n",
       "  (9, 1.4892897458071737),\n",
       "  (7, 1.4418533842150576),\n",
       "  (7, 1.531970643381867),\n",
       "  (9, 1.5657789701602123),\n",
       "  (8, 1.4128095429212708),\n",
       "  (9, 1.507112583159253)],\n",
       " [(16.0, 1.3633941321227059),\n",
       "  (16.0, 1.5463872984359848),\n",
       "  (16.0, 1.407617882606474),\n",
       "  (16.0, 1.4139583932463144),\n",
       "  (16.0, 1.4134495030689416),\n",
       "  (16.0, 1.477761262450351),\n",
       "  (16.0, 1.5484799534831641),\n",
       "  (16.0, 1.5056049378008),\n",
       "  (16.0, 1.459661843478969),\n",
       "  (16.0, 1.5230677344943782)],\n",
       " 0.94994994994995)"
      ]
     },
     "execution_count": 98,
     "metadata": {},
     "output_type": "execute_result"
    }
   ],
   "source": [
    "o_trunc_charged, o_ridge_charged, np.mean(odf['officer_charged'])"
   ]
  }
 ],
 "metadata": {
  "kernelspec": {
   "display_name": "Python 3",
   "language": "python",
   "name": "python3"
  },
  "language_info": {
   "codemirror_mode": {
    "name": "ipython",
    "version": 3
   },
   "file_extension": ".py",
   "mimetype": "text/x-python",
   "name": "python",
   "nbconvert_exporter": "python",
   "pygments_lexer": "ipython3",
   "version": "3.7.4"
  }
 },
 "nbformat": 4,
 "nbformat_minor": 4
}
