{
 "cells": [
  {
   "cell_type": "code",
   "execution_count": 1,
   "metadata": {},
   "outputs": [],
   "source": [
    "import numpy as np\n",
    "import matplotlib.pyplot as plt\n",
    "import scipy.io as sio\n",
    "import numpy.linalg as la\n",
    "import pandas as pd\n",
    "from scipy.linalg import svd\n",
    "from mpl_toolkits.mplot3d import Axes3D\n",
    "import random\n",
    "from pipeline import generate_basic_exploration\n",
    "import jellyfish"
   ]
  },
  {
   "cell_type": "code",
   "execution_count": 14,
   "metadata": {},
   "outputs": [],
   "source": [
    "df = pd.read_csv('allegations.csv')"
   ]
  },
  {
   "cell_type": "code",
   "execution_count": 8,
   "metadata": {},
   "outputs": [
    {
     "data": {
      "text/plain": [
       "Index(['unique_mos_id', 'first_name', 'last_name', 'command_now', 'shield_no',\n",
       "       'complaint_id', 'month_received', 'year_received', 'month_closed',\n",
       "       'year_closed', 'command_at_incident', 'rank_abbrev_incident',\n",
       "       'rank_abbrev_now', 'rank_now', 'rank_incident', 'mos_ethnicity',\n",
       "       'mos_gender', 'mos_age_incident', 'complainant_ethnicity',\n",
       "       'complainant_gender', 'complainant_age_incident', 'fado_type',\n",
       "       'allegation', 'precinct', 'contact_reason', 'outcome_description',\n",
       "       'board_disposition'],\n",
       "      dtype='object')"
      ]
     },
     "execution_count": 8,
     "metadata": {},
     "output_type": "execute_result"
    }
   ],
   "source": [
    "df.columns"
   ]
  },
  {
   "cell_type": "code",
   "execution_count": 23,
   "metadata": {},
   "outputs": [
    {
     "data": {
      "text/html": [
       "<div>\n",
       "<style scoped>\n",
       "    .dataframe tbody tr th:only-of-type {\n",
       "        vertical-align: middle;\n",
       "    }\n",
       "\n",
       "    .dataframe tbody tr th {\n",
       "        vertical-align: top;\n",
       "    }\n",
       "\n",
       "    .dataframe thead th {\n",
       "        text-align: right;\n",
       "    }\n",
       "</style>\n",
       "<table border=\"1\" class=\"dataframe\">\n",
       "  <thead>\n",
       "    <tr style=\"text-align: right;\">\n",
       "      <th></th>\n",
       "      <th>unique_mos_id</th>\n",
       "      <th>first_name</th>\n",
       "      <th>last_name</th>\n",
       "      <th>command_now</th>\n",
       "      <th>shield_no</th>\n",
       "      <th>complaint_id</th>\n",
       "      <th>month_received</th>\n",
       "      <th>year_received</th>\n",
       "      <th>month_closed</th>\n",
       "      <th>year_closed</th>\n",
       "      <th>...</th>\n",
       "      <th>mos_age_incident</th>\n",
       "      <th>complainant_ethnicity</th>\n",
       "      <th>complainant_gender</th>\n",
       "      <th>complainant_age_incident</th>\n",
       "      <th>fado_type</th>\n",
       "      <th>allegation</th>\n",
       "      <th>precinct</th>\n",
       "      <th>contact_reason</th>\n",
       "      <th>outcome_description</th>\n",
       "      <th>board_disposition</th>\n",
       "    </tr>\n",
       "  </thead>\n",
       "  <tbody>\n",
       "    <tr>\n",
       "      <th>0</th>\n",
       "      <td>10004</td>\n",
       "      <td>Jonathan</td>\n",
       "      <td>Ruiz</td>\n",
       "      <td>078 PCT</td>\n",
       "      <td>8409</td>\n",
       "      <td>42835</td>\n",
       "      <td>7</td>\n",
       "      <td>2019</td>\n",
       "      <td>5</td>\n",
       "      <td>2020</td>\n",
       "      <td>...</td>\n",
       "      <td>32</td>\n",
       "      <td>Black</td>\n",
       "      <td>Female</td>\n",
       "      <td>38.0</td>\n",
       "      <td>Abuse of Authority</td>\n",
       "      <td>Failure to provide RTKA card</td>\n",
       "      <td>78.0</td>\n",
       "      <td>Report-domestic dispute</td>\n",
       "      <td>No arrest made or summons issued</td>\n",
       "      <td>Substantiated (Command Lvl Instructions)</td>\n",
       "    </tr>\n",
       "    <tr>\n",
       "      <th>1</th>\n",
       "      <td>10007</td>\n",
       "      <td>John</td>\n",
       "      <td>Sears</td>\n",
       "      <td>078 PCT</td>\n",
       "      <td>5952</td>\n",
       "      <td>24601</td>\n",
       "      <td>11</td>\n",
       "      <td>2011</td>\n",
       "      <td>8</td>\n",
       "      <td>2012</td>\n",
       "      <td>...</td>\n",
       "      <td>24</td>\n",
       "      <td>Black</td>\n",
       "      <td>Male</td>\n",
       "      <td>26.0</td>\n",
       "      <td>Discourtesy</td>\n",
       "      <td>Action</td>\n",
       "      <td>67.0</td>\n",
       "      <td>Moving violation</td>\n",
       "      <td>Moving violation summons issued</td>\n",
       "      <td>Substantiated (Charges)</td>\n",
       "    </tr>\n",
       "    <tr>\n",
       "      <th>2</th>\n",
       "      <td>10007</td>\n",
       "      <td>John</td>\n",
       "      <td>Sears</td>\n",
       "      <td>078 PCT</td>\n",
       "      <td>5952</td>\n",
       "      <td>24601</td>\n",
       "      <td>11</td>\n",
       "      <td>2011</td>\n",
       "      <td>8</td>\n",
       "      <td>2012</td>\n",
       "      <td>...</td>\n",
       "      <td>24</td>\n",
       "      <td>Black</td>\n",
       "      <td>Male</td>\n",
       "      <td>26.0</td>\n",
       "      <td>Offensive Language</td>\n",
       "      <td>Race</td>\n",
       "      <td>67.0</td>\n",
       "      <td>Moving violation</td>\n",
       "      <td>Moving violation summons issued</td>\n",
       "      <td>Substantiated (Charges)</td>\n",
       "    </tr>\n",
       "    <tr>\n",
       "      <th>3</th>\n",
       "      <td>10007</td>\n",
       "      <td>John</td>\n",
       "      <td>Sears</td>\n",
       "      <td>078 PCT</td>\n",
       "      <td>5952</td>\n",
       "      <td>26146</td>\n",
       "      <td>7</td>\n",
       "      <td>2012</td>\n",
       "      <td>9</td>\n",
       "      <td>2013</td>\n",
       "      <td>...</td>\n",
       "      <td>25</td>\n",
       "      <td>Black</td>\n",
       "      <td>Male</td>\n",
       "      <td>45.0</td>\n",
       "      <td>Abuse of Authority</td>\n",
       "      <td>Question</td>\n",
       "      <td>67.0</td>\n",
       "      <td>PD suspected C/V of violation/crime - street</td>\n",
       "      <td>No arrest made or summons issued</td>\n",
       "      <td>Substantiated (Charges)</td>\n",
       "    </tr>\n",
       "    <tr>\n",
       "      <th>4</th>\n",
       "      <td>10009</td>\n",
       "      <td>Noemi</td>\n",
       "      <td>Sierra</td>\n",
       "      <td>078 PCT</td>\n",
       "      <td>24058</td>\n",
       "      <td>40253</td>\n",
       "      <td>8</td>\n",
       "      <td>2018</td>\n",
       "      <td>2</td>\n",
       "      <td>2019</td>\n",
       "      <td>...</td>\n",
       "      <td>39</td>\n",
       "      <td>NaN</td>\n",
       "      <td>NaN</td>\n",
       "      <td>16.0</td>\n",
       "      <td>Force</td>\n",
       "      <td>Physical force</td>\n",
       "      <td>67.0</td>\n",
       "      <td>Report-dispute</td>\n",
       "      <td>Arrest - other violation/crime</td>\n",
       "      <td>Substantiated (Command Discipline A)</td>\n",
       "    </tr>\n",
       "  </tbody>\n",
       "</table>\n",
       "<p>5 rows × 27 columns</p>\n",
       "</div>"
      ],
      "text/plain": [
       "   unique_mos_id first_name last_name command_now  shield_no  complaint_id  \\\n",
       "0          10004   Jonathan      Ruiz     078 PCT       8409         42835   \n",
       "1          10007       John     Sears     078 PCT       5952         24601   \n",
       "2          10007       John     Sears     078 PCT       5952         24601   \n",
       "3          10007       John     Sears     078 PCT       5952         26146   \n",
       "4          10009      Noemi    Sierra     078 PCT      24058         40253   \n",
       "\n",
       "   month_received  year_received  month_closed  year_closed  ...  \\\n",
       "0               7           2019             5         2020  ...   \n",
       "1              11           2011             8         2012  ...   \n",
       "2              11           2011             8         2012  ...   \n",
       "3               7           2012             9         2013  ...   \n",
       "4               8           2018             2         2019  ...   \n",
       "\n",
       "  mos_age_incident complainant_ethnicity complainant_gender  \\\n",
       "0               32                 Black             Female   \n",
       "1               24                 Black               Male   \n",
       "2               24                 Black               Male   \n",
       "3               25                 Black               Male   \n",
       "4               39                   NaN                NaN   \n",
       "\n",
       "  complainant_age_incident           fado_type                    allegation  \\\n",
       "0                     38.0  Abuse of Authority  Failure to provide RTKA card   \n",
       "1                     26.0         Discourtesy                        Action   \n",
       "2                     26.0  Offensive Language                          Race   \n",
       "3                     45.0  Abuse of Authority                      Question   \n",
       "4                     16.0               Force                Physical force   \n",
       "\n",
       "  precinct                                contact_reason  \\\n",
       "0     78.0                       Report-domestic dispute   \n",
       "1     67.0                              Moving violation   \n",
       "2     67.0                              Moving violation   \n",
       "3     67.0  PD suspected C/V of violation/crime - street   \n",
       "4     67.0                                Report-dispute   \n",
       "\n",
       "                outcome_description                         board_disposition  \n",
       "0  No arrest made or summons issued  Substantiated (Command Lvl Instructions)  \n",
       "1   Moving violation summons issued                   Substantiated (Charges)  \n",
       "2   Moving violation summons issued                   Substantiated (Charges)  \n",
       "3  No arrest made or summons issued                   Substantiated (Charges)  \n",
       "4    Arrest - other violation/crime      Substantiated (Command Discipline A)  \n",
       "\n",
       "[5 rows x 27 columns]"
      ]
     },
     "execution_count": 23,
     "metadata": {},
     "output_type": "execute_result"
    }
   ],
   "source": [
    "df.head()"
   ]
  },
  {
   "cell_type": "code",
   "execution_count": 16,
   "metadata": {},
   "outputs": [
    {
     "data": {
      "text/plain": [
       "array(['Hispanic', 'White', 'Black', 'Asian', 'American Indian'],\n",
       "      dtype=object)"
      ]
     },
     "execution_count": 16,
     "metadata": {},
     "output_type": "execute_result"
    }
   ],
   "source": [
    "df['mos_ethnicity'].unique()"
   ]
  },
  {
   "cell_type": "code",
   "execution_count": 62,
   "metadata": {},
   "outputs": [],
   "source": [
    "# Construct variable based on time to close case\n",
    "\n",
    "df['month_received'] = [str(x) for x in df['month_received']]\n",
    "df['year_received'] = [str(x) for x in df['year_received']]\n",
    "df['month_closed'] = [str(x) for x in df['month_closed']]\n",
    "df['year_closed'] = [str(x) for x in df['year_closed']]\n",
    "\n",
    "df['received_date'] = pd.to_datetime(df['month_received'] + '-' + df['year_received'])\n",
    "df['closed_date'] = pd.to_datetime(df['month_closed'] + '-' + df['year_closed'])\n",
    "df['closure_time'] = (df['closed_date'] - df['received_date']).dt.days"
   ]
  },
  {
   "cell_type": "code",
   "execution_count": 26,
   "metadata": {},
   "outputs": [],
   "source": [
    "# Create continuous rank variable"
   ]
  },
  {
   "cell_type": "code",
   "execution_count": 63,
   "metadata": {},
   "outputs": [],
   "source": [
    "rank_dict = {'POM': 1, 'POF': 1, 'PO': 1, 'PSA':1,\n",
    "             'SGT': 2, 'SSA': 2, 'SDS': 2, 'DET': 3,\n",
    "             'DT3': 3, 'DTS': 3, 'DT2': 4, 'DT1': 5,\n",
    "             'LT': 6, 'LSA': 6, 'LCD': 7, 'SRG': 7,\n",
    "             'CPT': 8, 'SCS': 8, 'DCS': 8, 'DI': 8,\n",
    "             'INS': 9, 'DC': 9, 'AC': 9,\n",
    "             'COD': 10, 'CCA': 10, 'CCT': 10, 'CD': 10,\n",
    "             'CMS': 10, 'COH': 10, 'COP': 10, 'COS':10,\n",
    "             'COT': 10, 'CPB': 10, 'CCC': 10, 'COI': 10}\n",
    "# Rank --> continuous values using dict\n",
    "df['rank_abbrev_incident'] = [rank_dict[x] for x in df['rank_abbrev_incident']]\n",
    "df['rank_abbrev_now'] = [rank_dict[x] for x in df['rank_abbrev_now']]\n",
    "\n",
    "# Potential additional outcome variable for demotion?\n",
    "df['demotion'] = df['rank_abbrev_now'] < df['rank_abbrev_incident']\n",
    "df['promotion'] = df['rank_abbrev_now'] > df['rank_abbrev_incident']"
   ]
  },
  {
   "cell_type": "code",
   "execution_count": 28,
   "metadata": {},
   "outputs": [
    {
     "data": {
      "text/plain": [
       "(296.2687211463517, 0.009622879069488579, 0.47376941063612926)"
      ]
     },
     "execution_count": 28,
     "metadata": {},
     "output_type": "execute_result"
    }
   ],
   "source": [
    "np.mean(df['closure_time']), np.mean(df['demotion']), np.mean(df['promotion'])\n",
    "\n",
    "# Average time to close a complaint roughly 1 year\n",
    "# Less than 1% of officers were of lower rank after the incident\n",
    "# 47% of officers were higher rank after the incident"
   ]
  },
  {
   "cell_type": "code",
   "execution_count": 29,
   "metadata": {},
   "outputs": [
    {
     "data": {
      "text/plain": [
       "(array(['Hispanic', 'White', 'Black', 'Asian', 'American Indian'],\n",
       "       dtype=object),\n",
       " array(['Black', nan, 'White', 'Asian', 'Refused', 'Hispanic', 'Unknown',\n",
       "        'Other Race', 'American Indian'], dtype=object),\n",
       " array(['M', 'F'], dtype=object))"
      ]
     },
     "execution_count": 29,
     "metadata": {},
     "output_type": "execute_result"
    }
   ],
   "source": [
    "# Ethnicity & gender\n",
    "df['mos_ethnicity'].unique(), df['complainant_ethnicity'].unique(), df['mos_gender'].unique()"
   ]
  },
  {
   "cell_type": "code",
   "execution_count": 64,
   "metadata": {},
   "outputs": [],
   "source": [
    "# Constructing a variable based on whether the officer had the same\n",
    "# ethnicity as the complainant\n",
    "df['complainant_ethnicity'] = df['complainant_ethnicity'].fillna('Unknown')\n",
    "df['same_ethnicity'] = df['mos_ethnicity']== df['complainant_ethnicity']\n",
    "df['same_ethnicity'] = [int(x) for x in df['same_ethnicity']]"
   ]
  },
  {
   "cell_type": "code",
   "execution_count": 15,
   "metadata": {},
   "outputs": [],
   "source": [
    "# Other race variables\n",
    "for race_eth in df['mos_ethnicity'].unique():\n",
    "    mos_race_eth = 'mos_' + race_eth.lower().replace(' ', '_')\n",
    "    df[mos_race_eth] = df['mos_ethnicity'] == race_eth\n"
   ]
  },
  {
   "cell_type": "code",
   "execution_count": 66,
   "metadata": {},
   "outputs": [],
   "source": [
    "for race_eth in df['complainant_ethnicity'].unique():\n",
    "    c_race_eth = 'c_' + race_eth.lower().replace(' ', '_')\n",
    "    df[c_race_eth] = df['complainant_ethnicity'] == race_eth"
   ]
  },
  {
   "cell_type": "code",
   "execution_count": 67,
   "metadata": {},
   "outputs": [
    {
     "data": {
      "text/plain": [
       "array(['Female', 'Male', 'Not described', 'Transman (FTM)',\n",
       "       'Transwoman (MTF)', 'Gender non-conforming'], dtype=object)"
      ]
     },
     "execution_count": 67,
     "metadata": {},
     "output_type": "execute_result"
    }
   ],
   "source": [
    "df['complainant_gender'] = df['complainant_gender'].fillna('Not described')\n",
    "for gender in df['complainant_gender'].unique():\n",
    "    c_gender = 'c_' + gender.lower().replace(' ', '_')\n",
    "    df[c_gender] = df['complainant_gender'] == gender\n",
    "df['complainant_gender'].unique()"
   ]
  },
  {
   "cell_type": "code",
   "execution_count": 68,
   "metadata": {},
   "outputs": [],
   "source": [
    "# Constructing gender variables including same officer/complainant gender,\n",
    "# 0/1 variable for officer gender,\n",
    "# Male dummy, Non-conforming dummy, Trans dummies for complainants\n",
    "\n",
    "df['same_gender'] = df['mos_gender']==df['complainant_gender']\n",
    "gender_dict = {'F': 1, 'M': 0}\n",
    "df['mos_gender'] = [gender_dict[x] for x in df['mos_gender']]"
   ]
  },
  {
   "cell_type": "code",
   "execution_count": 69,
   "metadata": {},
   "outputs": [
    {
     "data": {
      "text/plain": [
       "(array(['Abuse of Authority', 'Discourtesy', 'Offensive Language', 'Force'],\n",
       "       dtype=object),\n",
       " array(['Failure to provide RTKA card', 'Action', 'Race', 'Question',\n",
       "        'Physical force', 'Refusal to process civilian complaint',\n",
       "        'Sexual orientation', 'Word', 'Refusal to provide shield number',\n",
       "        'Retaliatory summons', 'Refusal to provide name/shield number',\n",
       "        'Search (of person)', 'Pepper spray', 'Handcuffs too tight',\n",
       "        'Frisk', 'Vehicle stop', 'Vehicle search', 'Strip-searched',\n",
       "        'Threat of arrest', 'Threat of force (verbal or physical)', 'Stop',\n",
       "        'Refusal to obtain medical treatment',\n",
       "        'Hit against inanimate object', 'Frisk and/or search', 'Other',\n",
       "        'Question and/or stop', 'Premises entered and/or searched',\n",
       "        'Gun Drawn', 'Nonlethal restraining device', 'Retaliatory arrest',\n",
       "        'Seizure of property', 'Chokehold', 'Gender',\n",
       "        'Nightstick as club (incl asp & baton)', 'Refusal to provide name',\n",
       "        'Gun Pointed', 'Threat to notify ACS',\n",
       "        'Other blunt instrument as a club', 'Property damaged',\n",
       "        'Interference with recording', 'Refusal to show search warrant',\n",
       "        'Threat to damage/seize property', 'Gesture',\n",
       "        'Sex Miscon (Sexual Harassment, Verbal)',\n",
       "        'Sex Miscon (Sexual Harassment, Gesture)',\n",
       "        'Forcible Removal to Hospital', 'Entry of Premises', 'Ethnicity',\n",
       "        'Threat of summons', 'Other - Force', 'Search of Premises',\n",
       "        'Threat re: removal to hospital', 'Vehicle',\n",
       "        'Photography/Videography', 'Demeanor/tone', 'Curse',\n",
       "        'Dragged/Pulled', 'Push/Shove', 'Detention', 'Other- Discourtesy',\n",
       "        'Mace', 'Restricted Breathing', 'Body Cavity Searches',\n",
       "        'Flashlight as club', 'Electronic device information deletion',\n",
       "        'Search of recording device', 'Gun as club', 'Nasty Words',\n",
       "        'Radio As Club', 'Threat of force', 'Nightstick/Billy/Club',\n",
       "        'Black', 'Property Damaged', 'Other - Abuse', 'Property Seized',\n",
       "        'Threat to Property', 'Religion', 'Hispanic',\n",
       "        'Sexual Misconduct (Sexual Humiliation)', 'Punch/Kick',\n",
       "        'Threat of Arrest', 'Beat', 'Gun fired', 'Other - Ethnic Slur',\n",
       "        'Flashlight As Club', 'Sex Miscon (Sexual/Romantic Proposition)',\n",
       "        'Gun pointed/gun drawn', 'Radio as club',\n",
       "        'Improper dissemination of medical info', 'Person Searched',\n",
       "        'Physical disability', 'Arrest/Onlooker',\n",
       "        'Failed to Obtain Language Interpretation', 'Rude Gesture',\n",
       "        'Jewish', 'Vehicle Searched', 'Gay/Lesbian Slur',\n",
       "        'Premise Searched', 'Arrest/D. A. T.', 'Oriental', 'Sh Refuse Cmp',\n",
       "        'Slap', 'Gun As Club', 'Police shield', 'Threat of Summons',\n",
       "        'White', 'Gun pointed', 'Profane Gesture',\n",
       "        'Refusal to show arrest warrant', 'Sexist Remark', 'Other Asian',\n",
       "        'Animal', 'Gun Fired', 'Questioned immigration status',\n",
       "        'Gender Identity'], dtype=object))"
      ]
     },
     "execution_count": 69,
     "metadata": {},
     "output_type": "execute_result"
    }
   ],
   "source": [
    "# Converting complaint types into categories: How do we want to go about this?\n",
    "\n",
    "#IDEAS: Construct subcategories within existing top-level categories?\n",
    "# For now: dummies for major types\n",
    "\n",
    "#Could create continuous variables for sexual misconduct,\n",
    "# use of force, etc\n",
    "df['allegation'] = df['allegation'].fillna('Other')\n",
    "df['fado_type'].unique(), df['allegation'].unique()\n"
   ]
  },
  {
   "cell_type": "code",
   "execution_count": 70,
   "metadata": {},
   "outputs": [],
   "source": [
    "# Creating dummies as well as a fado_nums variable which increases with severity of\n",
    "# allegation\n",
    "\n",
    "fado_dict = {'Force': 4, 'Abuse of Authority': 3, 'Discourtesy': 2, 'Offensive Language': 1}\n",
    "df['fado_nums'] = [fado_dict[x] for x in df['fado_type']]\n",
    "for f_type in df['fado_type'].unique():\n",
    "    fado_type = f_type.lower().replace(' ', '_')\n",
    "    df[fado_type] = df['fado_type'] == f_type"
   ]
  },
  {
   "cell_type": "code",
   "execution_count": 71,
   "metadata": {},
   "outputs": [],
   "source": [
    "sim_dict = {}\n",
    "matched_dict = {}\n",
    "matched_vals = []\n",
    "for alleg in df['allegation'].unique():\n",
    "    if alleg not in matched_vals:\n",
    "        sim_dict[alleg] = [alleg]\n",
    "        for other_alleg in df['allegation'].unique():\n",
    "            if other_alleg not in sim_dict and other_alleg not in matched_vals:\n",
    "                if jellyfish.jaro_winkler(alleg, other_alleg) > 0.89:\n",
    "                    sim_dict[alleg].append(other_alleg)\n",
    "                    matched_vals.append(other_alleg)\n",
    "for key in sim_dict:\n",
    "    if len(sim_dict[key]) > 1:\n",
    "        matched_dict[key] = sim_dict[key]"
   ]
  },
  {
   "cell_type": "code",
   "execution_count": 72,
   "metadata": {},
   "outputs": [
    {
     "data": {
      "text/plain": [
       "({'Refusal to provide shield number': ['Refusal to provide shield number',\n",
       "   'Refusal to provide name/shield number',\n",
       "   'Refusal to provide name'],\n",
       "  'Vehicle stop': ['Vehicle stop', 'Vehicle'],\n",
       "  'Vehicle search': ['Vehicle search', 'Vehicle Searched'],\n",
       "  'Threat of arrest': ['Threat of arrest',\n",
       "   'Threat of force',\n",
       "   'Threat of Arrest'],\n",
       "  'Other': ['Other', 'Other Asian'],\n",
       "  'Gun Pointed': ['Gun Pointed', 'Gun pointed'],\n",
       "  'Property damaged': ['Property damaged', 'Property Damaged'],\n",
       "  'Refusal to show search warrant': ['Refusal to show search warrant',\n",
       "   'Refusal to show arrest warrant'],\n",
       "  'Sex Miscon (Sexual Harassment, Verbal)': ['Sex Miscon (Sexual Harassment, Verbal)',\n",
       "   'Sex Miscon (Sexual Harassment, Gesture)'],\n",
       "  'Threat of summons': ['Threat of summons', 'Threat of Summons'],\n",
       "  'Flashlight as club': ['Flashlight as club', 'Flashlight As Club'],\n",
       "  'Gun as club': ['Gun as club', 'Gun As Club'],\n",
       "  'Radio As Club': ['Radio As Club', 'Radio as club'],\n",
       "  'Gun fired': ['Gun fired', 'Gun Fired']},\n",
       " ['refusal to provide shield number_merge_name/shield',\n",
       "  'vehicle stop',\n",
       "  'vehicle search_merge_searched',\n",
       "  'threat of arrest_merge_force',\n",
       "  'other_merge_asian',\n",
       "  'gun pointed',\n",
       "  'property damaged',\n",
       "  'refusal to show search warrant_merge_arrest',\n",
       "  'sex miscon (sexual harassment, verbal)_merge_gesture)',\n",
       "  'threat of summons',\n",
       "  'flashlight as club',\n",
       "  'gun as club',\n",
       "  'radio as club',\n",
       "  'gun fired'])"
      ]
     },
     "execution_count": 72,
     "metadata": {},
     "output_type": "execute_result"
    }
   ],
   "source": [
    "merged_strings = []\n",
    "for match in matched_dict:\n",
    "    m = match.lower()\n",
    "    for other_match in matched_dict[match]:\n",
    "        other_match = str.split(other_match.lower())\n",
    "        for word in other_match:\n",
    "            if word not in m:\n",
    "                m = m + '_merge_' + word\n",
    "    merged_strings.append(m)\n",
    "matched_dict, merged_strings"
   ]
  },
  {
   "cell_type": "code",
   "execution_count": 73,
   "metadata": {},
   "outputs": [],
   "source": [
    "drop_cols = []\n",
    "for key in matched_dict:\n",
    "    for val in matched_dict[key]:\n",
    "        drop_cols.append(val)"
   ]
  },
  {
   "cell_type": "code",
   "execution_count": 41,
   "metadata": {},
   "outputs": [
    {
     "data": {
      "text/plain": [
       "['Refusal to provide shield number',\n",
       " 'Refusal to provide name/shield number',\n",
       " 'Refusal to provide name',\n",
       " 'Vehicle stop',\n",
       " 'Vehicle',\n",
       " 'Vehicle search',\n",
       " 'Vehicle Searched',\n",
       " 'Threat of arrest',\n",
       " 'Threat of force',\n",
       " 'Threat of Arrest',\n",
       " 'Other',\n",
       " 'Other Asian',\n",
       " 'Gun Pointed',\n",
       " 'Gun pointed',\n",
       " 'Property damaged',\n",
       " 'Property Damaged',\n",
       " 'Refusal to show search warrant',\n",
       " 'Refusal to show arrest warrant',\n",
       " 'Sex Miscon (Sexual Harassment, Verbal)',\n",
       " 'Sex Miscon (Sexual Harassment, Gesture)',\n",
       " 'Threat of summons',\n",
       " 'Threat of Summons',\n",
       " 'Flashlight as club',\n",
       " 'Flashlight As Club',\n",
       " 'Gun as club',\n",
       " 'Gun As Club',\n",
       " 'Radio As Club',\n",
       " 'Radio as club',\n",
       " 'Gun fired',\n",
       " 'Gun Fired']"
      ]
     },
     "execution_count": 41,
     "metadata": {},
     "output_type": "execute_result"
    }
   ],
   "source": [
    "drop_cols"
   ]
  },
  {
   "cell_type": "code",
   "execution_count": 74,
   "metadata": {},
   "outputs": [],
   "source": [
    "for allegation in df['allegation'].unique():\n",
    "    df[allegation] = df['allegation'] == allegation"
   ]
  },
  {
   "cell_type": "code",
   "execution_count": 75,
   "metadata": {},
   "outputs": [],
   "source": [
    "df['refusal to provide shield number_merge_name/shield'] = (df['Refusal to provide shield number'] +\n",
    "                                                            df['Refusal to provide name/shield number'] +\n",
    "                                                            df['Refusal to provide name'])\n",
    "df['vehicle stop'] = df['Vehicle stop'] + df['Vehicle']\n",
    "df['vehicle search_merge_searched'] = df['Vehicle search'] + df['Vehicle Searched']\n",
    "df['threat of arrest_merge_force']  = df['Threat of arrest'] + df['Threat of force'] + df['Threat of Arrest']\n",
    "df['gun pointed'] = df['Gun Pointed'] + df['Gun pointed']\n",
    "df['property damaged'] = df['Property damaged'] + df['Property Damaged']\n",
    "df['refusal to show search warrant_merge_arrest'] = df['Refusal to show search warrant'] + df['Refusal to show arrest warrant']\n",
    "df['sex miscon (sexual harassment, verbal)_merge_gesture)'] = (df['Sex Miscon (Sexual Harassment, Verbal)'] +\n",
    "                                                               df['Sex Miscon (Sexual Harassment, Gesture)'])\n",
    "df['threat of summons'] = df['Threat of summons'] + df['Threat of Summons']\n",
    "df['flashlight as club'] = df['Flashlight as club'] + df['Flashlight As Club']\n",
    "df['gun as club'] = df['Gun as club'] + df['Gun As Club']\n",
    "df['radio as club'] = df['Radio As Club'] + df['Radio as club']\n",
    "df['gun fired'] = df['Gun fired'] + df['Gun Fired']"
   ]
  },
  {
   "cell_type": "code",
   "execution_count": 76,
   "metadata": {},
   "outputs": [],
   "source": [
    "df = df.drop(columns=drop_cols)"
   ]
  },
  {
   "cell_type": "code",
   "execution_count": 77,
   "metadata": {},
   "outputs": [],
   "source": [
    "complainant_cols = [x for x in merged_strings if x != 'other_merge_asian']"
   ]
  },
  {
   "cell_type": "code",
   "execution_count": 78,
   "metadata": {},
   "outputs": [],
   "source": [
    "remaining_c_cols = []\n",
    "for allegation in df['allegation'].unique():\n",
    "    if allegation not in drop_cols and allegation != 'Other':\n",
    "        remaining_c_cols.append(allegation)"
   ]
  },
  {
   "cell_type": "code",
   "execution_count": 47,
   "metadata": {},
   "outputs": [
    {
     "data": {
      "text/plain": [
       "['Failure to provide RTKA card',\n",
       " 'Action',\n",
       " 'Race',\n",
       " 'Question',\n",
       " 'Physical force',\n",
       " 'Refusal to process civilian complaint',\n",
       " 'Sexual orientation',\n",
       " 'Word',\n",
       " 'Retaliatory summons',\n",
       " 'Search (of person)',\n",
       " 'Pepper spray',\n",
       " 'Handcuffs too tight',\n",
       " 'Frisk',\n",
       " 'Strip-searched',\n",
       " 'Threat of force (verbal or physical)',\n",
       " 'Stop',\n",
       " 'Refusal to obtain medical treatment',\n",
       " 'Hit against inanimate object',\n",
       " 'Frisk and/or search',\n",
       " 'Question and/or stop',\n",
       " 'Premises entered and/or searched',\n",
       " 'Gun Drawn',\n",
       " 'Nonlethal restraining device',\n",
       " 'Retaliatory arrest',\n",
       " 'Seizure of property',\n",
       " 'Chokehold',\n",
       " 'Gender',\n",
       " 'Nightstick as club (incl asp & baton)',\n",
       " 'Threat to notify ACS',\n",
       " 'Other blunt instrument as a club',\n",
       " 'Interference with recording',\n",
       " 'Threat to damage/seize property',\n",
       " 'Gesture',\n",
       " 'Forcible Removal to Hospital',\n",
       " 'Entry of Premises',\n",
       " 'Ethnicity',\n",
       " 'Other - Force',\n",
       " 'Search of Premises',\n",
       " 'Threat re: removal to hospital',\n",
       " 'Photography/Videography',\n",
       " 'Demeanor/tone',\n",
       " 'Curse',\n",
       " 'Dragged/Pulled',\n",
       " 'Push/Shove',\n",
       " 'Detention',\n",
       " 'Other- Discourtesy',\n",
       " 'Mace',\n",
       " 'Restricted Breathing',\n",
       " 'Body Cavity Searches',\n",
       " 'Electronic device information deletion',\n",
       " 'Search of recording device',\n",
       " 'Nasty Words',\n",
       " 'Nightstick/Billy/Club',\n",
       " 'Black',\n",
       " 'Other - Abuse',\n",
       " 'Property Seized',\n",
       " 'Threat to Property',\n",
       " 'Religion',\n",
       " 'Hispanic',\n",
       " 'Sexual Misconduct (Sexual Humiliation)',\n",
       " 'Punch/Kick',\n",
       " 'Beat',\n",
       " 'Other - Ethnic Slur',\n",
       " 'Sex Miscon (Sexual/Romantic Proposition)',\n",
       " 'Gun pointed/gun drawn',\n",
       " 'Improper dissemination of medical info',\n",
       " 'Person Searched',\n",
       " 'Physical disability',\n",
       " 'Arrest/Onlooker',\n",
       " 'Failed to Obtain Language Interpretation',\n",
       " 'Rude Gesture',\n",
       " 'Jewish',\n",
       " 'Gay/Lesbian Slur',\n",
       " 'Premise Searched',\n",
       " 'Arrest/D. A. T.',\n",
       " 'Oriental',\n",
       " 'Sh Refuse Cmp',\n",
       " 'Slap',\n",
       " 'Police shield',\n",
       " 'White',\n",
       " 'Profane Gesture',\n",
       " 'Sexist Remark',\n",
       " 'Animal',\n",
       " 'Questioned immigration status',\n",
       " 'Gender Identity']"
      ]
     },
     "execution_count": 47,
     "metadata": {},
     "output_type": "execute_result"
    }
   ],
   "source": [
    "remaining_c_cols"
   ]
  },
  {
   "cell_type": "code",
   "execution_count": 48,
   "metadata": {},
   "outputs": [],
   "source": [
    "# Setting this aside to try string similarity approach\n",
    "\n",
    "# group_cols = []\n",
    "# id_cols = ['Refusal to provide name', 'Refusal to provide shield number', \n",
    "#            'Refusal to provide name/shield number', 'Failure to provide RTKA card']\n",
    "# club_cols = ['Flashlight as club',   'Flashlight As Club',  \n",
    "#              'Nightstick as club (incl asp & baton)',   \n",
    "#              'Other blunt instrument as a club', 'Gun as club',  \n",
    "#              'Radio As Club', 'Nightstick/Billy/Club', 'Radio as club']\n",
    "# vehicle_cols = ['Vehicle search',  'Vehicle Searched']\n",
    "# gesture_cols = ['Gesture',  'Rude Gesture',  'Profane Gesture']\n",
    "# gun_cols = ['Gun Pointed', 'Gun pointed/gun drawn', 'Gun pointed', 'Gun Drawn']\n",
    "# person_search_cols = ['Search (of person)',  'Frisk and/or search', \n",
    "#                       'Person Searched']\n",
    "# premises_search_cols = ['Premises entered and/or searched',  'Search of Premises', \n",
    "#                         'Premise Searched', 'Entry of Premises']"
   ]
  },
  {
   "cell_type": "code",
   "execution_count": 79,
   "metadata": {
    "scrolled": false
   },
   "outputs": [
    {
     "data": {
      "text/plain": [
       "(array(['Report-domestic dispute', 'Moving violation',\n",
       "        'PD suspected C/V of violation/crime - street', 'Report-dispute',\n",
       "        'C/V telephoned PCT', 'Other', 'Regulatory inspection',\n",
       "        'Other violation of VTL', 'Parking violation',\n",
       "        'Execution of search warrant',\n",
       "        'PD suspected C/V of violation/crime - bldg',\n",
       "        'Execution of arrest/bench warrant',\n",
       "        'PD suspected C/V of violation/crime - auto',\n",
       "        'Report-possession/sale of narcotics', 'Report-noise/disturbance',\n",
       "        'C/V intervened on behalf of/observed encounter w/3rd party',\n",
       "        'Traffic accident', 'Aided case', 'EDP aided case',\n",
       "        'C/V at PCT to file complaint of crime', 'Report of other crime',\n",
       "        'PD auto checkpoint', 'Demonstration/protest',\n",
       "        'Arrest/Complainant', 'C/V requested investigation of crime',\n",
       "        'Assist ACS or other agency', 'C/V at PCT to obtain information',\n",
       "        'CV already in custody', 'Report-gun possession/shots fired',\n",
       "        'Traffic Incidents/Accident/Prk Violation', 'Stop/Question/Frisk',\n",
       "        'Complainant at Pct. to make a Cmpl/info',\n",
       "        'Vehicle Stop and Check', 'C/V requested info from officer',\n",
       "        'PD suspected C/V of violation/crime - subway',\n",
       "        'Telephone Call to Precinct/Command', 'Patrol Encounter', 'Others',\n",
       "        'Arrest/Not Complainant', 'Dispute',\n",
       "        'Report of Crime Past/Present', 'Summons/Complainant',\n",
       "        'Complainant Witnessing Incident',\n",
       "        'C/V at PCT to retrieve property',\n",
       "        'Report of Disturbance/Noise Complaint', 'Parade/special event',\n",
       "        'PD telephones CV', 'EDP Aided Cases', 'Aided Cases',\n",
       "        'Demonstrations', 'Transit checkpoint',\n",
       "        'Victim Subject of Sex Crime', 'No contact'], dtype=object),\n",
       " array(['No arrest made or summons issued',\n",
       "        'Moving violation summons issued',\n",
       "        'Arrest - other violation/crime',\n",
       "        'Summons - other violation/crime', 'Arrest - OGA',\n",
       "        'Other VTL violation summons issued', 'Arrest - resisting arrest',\n",
       "        'Arrest - disorderly conduct', 'Arrest - assault (against a PO)',\n",
       "        'Summons - disorderly conduct', 'Juvenile Report',\n",
       "        'Parking summons issued', 'Disorderly-Conduct/Arr/Summons',\n",
       "        'Assault/Arrested', 'Other Summons Claimed or Issued', 'Unknown',\n",
       "        'Arrest - harrassment (against a PO)', 'Arrest on Other Charge',\n",
       "        'Obstruct-Govt-Admin/Arrested',\n",
       "        'Traffic Summons Claimed or Issued', 'Resisting Arrest/Arrested',\n",
       "        'Harrassment/Arrested/Summons', 'Summons - OGA',\n",
       "        'Summons - harrassment (against a PO)'], dtype=object))"
      ]
     },
     "execution_count": 79,
     "metadata": {},
     "output_type": "execute_result"
    }
   ],
   "source": [
    "# How to approach contact & outcome variables?\n",
    "\n",
    "# Could do dummies based on subtypes?\n",
    "df['contact_reason'] = df['contact_reason'].fillna('Other')\n",
    "df['outcome_description'] = df['outcome_description'].fillna('Unknown')\n",
    "df['contact_reason'].unique(), df['outcome_description'].unique()"
   ]
  },
  {
   "cell_type": "code",
   "execution_count": 80,
   "metadata": {},
   "outputs": [],
   "source": [
    "new_officer_cols = []\n",
    "for contact_reason in df['contact_reason'].unique():\n",
    "    df[contact_reason] = df['contact_reason'] == contact_reason\n",
    "    new_officer_cols.append(contact_reason)\n",
    "for outcome in df['outcome_description'].unique():\n",
    "    df[outcome] = df['outcome_description'] == outcome\n",
    "    new_officer_cols.append(outcome)\n",
    "    \n",
    "# With these new cols, we get Singular Matrix errors"
   ]
  },
  {
   "cell_type": "code",
   "execution_count": 81,
   "metadata": {},
   "outputs": [],
   "source": [
    "# Preliminary manual go for reason. \n",
    "# Could redo this with Jaro-Winkler/ other measure of similarity?\n",
    "\n",
    "df['dispute'] = (df['Report-domestic dispute'] + df['Report-dispute'] + df['Dispute'])\n",
    "df['vehicle'] = (df['Moving violation'] + df['Other violation of VTL'] +\n",
    "                 df['PD suspected C/V of violation/crime - auto'] +\n",
    "                 df['Traffic Incidents/Accident/Prk Violation'] +\n",
    "                 df['Parking violation'] + df['Traffic accident'] +\n",
    "                 df['Vehicle Stop and Check'])\n",
    "df['suspected_violation'] = (df['PD suspected C/V of violation/crime - subway'] +\n",
    "                             df['PD suspected C/V of violation/crime - street'] +\n",
    "                             df['PD suspected C/V of violation/crime - bldg'])\n",
    "df['phone'] = (df['C/V telephoned PCT'] + df['PD telephones CV'] +\n",
    "               df['Telephone Call to Precinct/Command'])\n",
    "df['warrant'] = (df['Execution of search warrant'] +\n",
    "                 df['Execution of arrest/bench warrant'] +\n",
    "                 df['Report-possession/sale of narcotics'])\n",
    "df['aided_case'] = (df['Aided case'] + df['EDP aided case'] +\n",
    "                    df['EDP Aided Cases'] + df['Aided Cases'])\n",
    "df['checkpoint'] = (df['PD auto checkpoint'] + df['Transit checkpoint'])\n",
    "df['demonstrations_protests'] = (df['Demonstration/protest'] +\n",
    "                                 df['Demonstrations'])\n",
    "df['report'] = (df['Report of other crime'] + df['Report of Crime Past/Present'] +\n",
    "                df['C/V requested investigation of crime'])\n",
    "df['disturbance'] = (df['Report-noise/disturbance'] +\n",
    "                     df['Report of Disturbance/Noise Complaint'])\n",
    "df['precinct_complaint_info'] = (df['Complainant at Pct. to make a Cmpl/info'] +\n",
    "                                df['C/V at PCT to obtain information'])"
   ]
  },
  {
   "cell_type": "code",
   "execution_count": 82,
   "metadata": {},
   "outputs": [],
   "source": [
    "# Preliminary manual go for outcomes\n",
    "\n",
    "df['vehicle_violation'] = (df['Moving violation summons issued'] + \n",
    "                           df['Other VTL violation summons issued'] + \n",
    "                           df['Traffic Summons Claimed or Issued'])\n",
    "df['arrest_resist'] = (df['Arrest - resisting arrest'] + \n",
    "                       df['Resisting Arrest/Arrested'])\n",
    "df['arrest_obstruct'] = (df['Arrest - OGA'] + df['Obstruct-Govt-Admin/Arrested'])\n",
    "df['other_summons'] = (df['Other Summons Claimed or Issued'] +\n",
    "                       df['Summons - other violation/crime'])"
   ]
  },
  {
   "cell_type": "code",
   "execution_count": 83,
   "metadata": {},
   "outputs": [],
   "source": [
    "constructed_cols = ['dispute', 'vehicle', 'suspected_violation',\n",
    "                    'phone', 'warrant', 'aided_case', 'checkpoint',\n",
    "                    'demonstrations_protests', 'report',\n",
    "                    'disturbance', 'precinct_complaint_info',\n",
    "                    'vehicle_violation', 'arrest_resist',\n",
    "                    'arrest_obstruct', 'other_summons']"
   ]
  },
  {
   "cell_type": "code",
   "execution_count": 84,
   "metadata": {},
   "outputs": [],
   "source": [
    "remaining_cols = ['Arrest/Complainant',\n",
    "                  'C/V intervened on behalf of/observed encounter w/3rd party',\n",
    "                  'C/V at PCT to file complaint of crime', \n",
    "                  'Regulatory inspection',\n",
    "                  'Assist ACS or other agency',\n",
    "                  'CV already in custody',\n",
    "                  'Report-gun possession/shots fired',\n",
    "                  'Stop/Question/Frisk',\n",
    "                  'C/V requested info from officer',\n",
    "                  'Patrol Encounter',\n",
    "                  'Arrest/Not Complainant',\n",
    "                  'Summons/Complainant',\n",
    "                  'Complainant Witnessing Incident',\n",
    "                  'C/V at PCT to retrieve property',\n",
    "                  'Parade/special event',\n",
    "                  'Victim Subject of Sex Crime',\n",
    "                  'No contact',\n",
    "                  'Arrest - other violation/crime',\n",
    "                  'No arrest made or summons issued',\n",
    "                  'Assault/Arrested',\n",
    "                  'Arrest - harrassment (against a PO)',\n",
    "                  'Arrest on Other Charge',\n",
    "                  'Harrassment/Arrested/Summons',\n",
    "                  'Arrest - disorderly conduct',\n",
    "                  'Arrest - assault (against a PO)',\n",
    "                  'Summons - disorderly conduct',\n",
    "                  'Summons - harrassment (against a PO)',\n",
    "                  'Parking summons issued',\n",
    "                  'Disorderly-Conduct/Arr/Summons',\n",
    "                  'Juvenile Report']"
   ]
  },
  {
   "cell_type": "code",
   "execution_count": 55,
   "metadata": {},
   "outputs": [
    {
     "data": {
      "text/plain": [
       "array(['Substantiated (Command Lvl Instructions)',\n",
       "       'Substantiated (Charges)', 'Substantiated (Command Discipline A)',\n",
       "       'Substantiated (Formalized Training)', 'Unsubstantiated',\n",
       "       'Exonerated', 'Substantiated (Command Discipline B)',\n",
       "       'Substantiated (Instructions)',\n",
       "       'Substantiated (Command Discipline)',\n",
       "       'Substantiated (No Recommendations)',\n",
       "       'Substantiated (MOS Unidentified)'], dtype=object)"
      ]
     },
     "execution_count": 55,
     "metadata": {},
     "output_type": "execute_result"
    }
   ],
   "source": [
    "# How to key in the board disposition\n",
    "\n",
    "# Simple approach: Unsubstantiated = -1, Exonerated = 0, all categories of Substantiated = 1\n",
    "# More complex approach: break down Substantiated into continuous values?\n",
    "\n",
    "# Could be interesting to add a dummy for how often complaints are substantiated\n",
    "# when officer is unidentified\n",
    "df['board_disposition'].unique()"
   ]
  },
  {
   "cell_type": "code",
   "execution_count": 86,
   "metadata": {},
   "outputs": [],
   "source": [
    "outcomes_dict = {'Substantiated (Command Lvl Instructions)': 1,\n",
    "                 'Substantiated (Charges)': 1, \n",
    "                 'Substantiated (Command Discipline A)': 1,\n",
    "                 'Substantiated (Formalized Training)': 1,\n",
    "                 'Substantiated (Command Discipline B)': 1,\n",
    "                 'Substantiated (Instructions)': 1,\n",
    "                 'Substantiated (Command Discipline)': 1,\n",
    "                 'Substantiated (No Recommendations)': 1,\n",
    "                 'Substantiated (MOS Unidentified)': 1,\n",
    "                 'Exonerated': 0,\n",
    "                 'Unsubstantiated': -1}\n",
    "df['outcome'] = [outcomes_dict[x] for x in df['board_disposition']]\n",
    "df['officer_charged'] = df['board_disposition'] == 'Substantiated (Charges)'"
   ]
  },
  {
   "cell_type": "code",
   "execution_count": 88,
   "metadata": {},
   "outputs": [
    {
     "data": {
      "text/plain": [
       "0.11379579111457522"
      ]
     },
     "execution_count": 88,
     "metadata": {},
     "output_type": "execute_result"
    }
   ],
   "source": [
    "sum(df['officer_charged'])/len(df)"
   ]
  },
  {
   "cell_type": "code",
   "execution_count": 89,
   "metadata": {},
   "outputs": [],
   "source": [
    "# Alternative - replace all ages below 0 with NA then fill all NAs with median?\n",
    "df.loc[df['complainant_age_incident']<=0,'complainant_age_incident'] = np.nan\n",
    "df['complainant_age_incident'] = df['complainant_age_incident'].fillna(df['complainant_age_incident'].median())"
   ]
  },
  {
   "cell_type": "code",
   "execution_count": 90,
   "metadata": {},
   "outputs": [],
   "source": [
    "df['complainant_age_incident'] = df['complainant_age_incident'].fillna(0)\n",
    "df['complainant_age_incident'] = [int(x) for x in df['complainant_age_incident']]"
   ]
  },
  {
   "cell_type": "code",
   "execution_count": 91,
   "metadata": {},
   "outputs": [],
   "source": [
    "df['complainant_age_incident'].unique()\n",
    "# We see some outliers with negative values and 0 values for NAs.\n",
    "# Here we replace these values with 0\n",
    "df['complainant_age_incident'] = [0 if x < 0 else x for x in df['complainant_age_incident']]"
   ]
  },
  {
   "cell_type": "code",
   "execution_count": 61,
   "metadata": {
    "scrolled": true
   },
   "outputs": [
    {
     "data": {
      "text/plain": [
       "array([ 38,  26,  45,  16,  31,  34,  60,  39,  30,  35,  42,  46,  23,\n",
       "        29,  28,  22,  33,  17,  15,  50,  27,  24,  43,  37,  25,  19,\n",
       "        47,  20,  49,  36,  67,  53,  44,  58,  40,  55,  18,  21,  41,\n",
       "        32,  52,  51,  65,  57,  48,  14,  13,  56,  64,  77,  63,  10,\n",
       "        54,  68,  62,  73,  11,  59,  74,  61,  80,  90,  70,  75,  12,\n",
       "        72,   8,  71,  69,  76,  81,  66,  87,   9, 101,   1,  78,   2,\n",
       "        88,  83,  79,  84,   3,   7,   6,  86])"
      ]
     },
     "execution_count": 61,
     "metadata": {},
     "output_type": "execute_result"
    }
   ],
   "source": [
    "df['complainant_age_incident'].unique()"
   ]
  },
  {
   "cell_type": "code",
   "execution_count": 62,
   "metadata": {},
   "outputs": [],
   "source": [
    "sub_df = df[['rank_abbrev_incident', 'mos_ethnicity', 'mos_gender', 'mos_age_incident', \n",
    "             'complainant_ethnicity', 'complainant_age_incident', 'complainant_gender',\n",
    "             'fado_nums', 'precinct', 'board_disposition', 'closure_time', 'outcome']]"
   ]
  },
  {
   "cell_type": "code",
   "execution_count": 63,
   "metadata": {},
   "outputs": [
    {
     "data": {
      "image/png": "[encoded data removed]",
      "text/plain": [
       "<Figure size 720x720 with 9 Axes>"
      ]
     },
     "metadata": {
      "needs_background": "light"
     },
     "output_type": "display_data"
    },
    {
     "data": {
      "image/png": "[encoded data removed]",
      "text/plain": [
       "<Figure size 720x720 with 2 Axes>"
      ]
     },
     "metadata": {
      "needs_background": "light"
     },
     "output_type": "display_data"
    }
   ],
   "source": [
    "generate_basic_exploration(sub_df)"
   ]
  },
  {
   "cell_type": "code",
   "execution_count": 64,
   "metadata": {},
   "outputs": [
    {
     "data": {
      "text/plain": [
       "Index(['unique_mos_id', 'first_name', 'last_name', 'command_now', 'shield_no',\n",
       "       'complaint_id', 'month_received', 'year_received', 'month_closed',\n",
       "       'year_closed', 'command_at_incident', 'rank_abbrev_incident',\n",
       "       'rank_abbrev_now', 'rank_now', 'rank_incident', 'mos_ethnicity',\n",
       "       'mos_gender', 'mos_age_incident', 'complainant_ethnicity',\n",
       "       'complainant_gender', 'complainant_age_incident', 'fado_type',\n",
       "       'allegation', 'precinct', 'contact_reason', 'outcome_description',\n",
       "       'board_disposition', 'received_date', 'closed_date', 'closure_time',\n",
       "       'demotion', 'promotion', 'same_ethnicity', 'mos_hispanic', 'mos_white',\n",
       "       'mos_black', 'mos_asian', 'mos_american_indian', 'c_black', 'c_unknown',\n",
       "       'c_white', 'c_asian', 'c_refused', 'c_hispanic', 'c_other_race',\n",
       "       'c_american_indian', 'c_female', 'c_male', 'c_not_described',\n",
       "       'c_transman_(ftm)', 'c_transwoman_(mtf)', 'c_gender_non-conforming',\n",
       "       'same_gender', 'fado_nums', 'abuse_of_authority', 'discourtesy',\n",
       "       'offensive_language', 'force', 'Failure to provide RTKA card', 'Action',\n",
       "       'Race', 'Question', 'Physical force',\n",
       "       'Refusal to process civilian complaint', 'Sexual orientation', 'Word',\n",
       "       'Retaliatory summons', 'Search (of person)', 'Pepper spray',\n",
       "       'Handcuffs too tight', 'Frisk', 'Strip-searched',\n",
       "       'Threat of force (verbal or physical)', 'Stop',\n",
       "       'Refusal to obtain medical treatment', 'Hit against inanimate object',\n",
       "       'Frisk and/or search', 'Question and/or stop',\n",
       "       'Premises entered and/or searched', 'Gun Drawn',\n",
       "       'Nonlethal restraining device', 'Retaliatory arrest',\n",
       "       'Seizure of property', 'Chokehold', 'Gender',\n",
       "       'Nightstick as club (incl asp & baton)', 'Threat to notify ACS',\n",
       "       'Other blunt instrument as a club', 'Interference with recording',\n",
       "       'Threat to damage/seize property', 'Gesture',\n",
       "       'Forcible Removal to Hospital', 'Entry of Premises', 'Ethnicity',\n",
       "       'Other - Force', 'Search of Premises', 'Threat re: removal to hospital',\n",
       "       'Photography/Videography', 'Demeanor/tone', 'Curse', 'Dragged/Pulled',\n",
       "       'Push/Shove', 'Detention', 'Other- Discourtesy', 'Mace',\n",
       "       'Restricted Breathing', 'Body Cavity Searches',\n",
       "       'Electronic device information deletion', 'Search of recording device',\n",
       "       'Nasty Words', 'Nightstick/Billy/Club', 'Black', 'Other - Abuse',\n",
       "       'Property Seized', 'Threat to Property', 'Religion', 'Hispanic',\n",
       "       'Sexual Misconduct (Sexual Humiliation)', 'Punch/Kick', 'Beat',\n",
       "       'Other - Ethnic Slur', 'Sex Miscon (Sexual/Romantic Proposition)',\n",
       "       'Gun pointed/gun drawn', 'Improper dissemination of medical info',\n",
       "       'Person Searched', 'Physical disability', 'Arrest/Onlooker',\n",
       "       'Failed to Obtain Language Interpretation', 'Rude Gesture', 'Jewish',\n",
       "       'Gay/Lesbian Slur', 'Premise Searched', 'Arrest/D. A. T.', 'Oriental',\n",
       "       'Sh Refuse Cmp', 'Slap', 'Police shield', 'White', 'Profane Gesture',\n",
       "       'Sexist Remark', 'Animal', 'Questioned immigration status',\n",
       "       'Gender Identity', 'refusal to provide shield number_merge_name/shield',\n",
       "       'vehicle stop', 'vehicle search_merge_searched',\n",
       "       'threat of arrest_merge_force', 'gun pointed', 'property damaged',\n",
       "       'refusal to show search warrant_merge_arrest',\n",
       "       'sex miscon (sexual harassment, verbal)_merge_gesture)',\n",
       "       'threat of summons', 'flashlight as club', 'gun as club',\n",
       "       'radio as club', 'gun fired', 'Report-domestic dispute',\n",
       "       'Moving violation', 'PD suspected C/V of violation/crime - street',\n",
       "       'Report-dispute', 'C/V telephoned PCT', 'Other',\n",
       "       'Regulatory inspection', 'Other violation of VTL', 'Parking violation',\n",
       "       'Execution of search warrant',\n",
       "       'PD suspected C/V of violation/crime - bldg',\n",
       "       'Execution of arrest/bench warrant',\n",
       "       'PD suspected C/V of violation/crime - auto',\n",
       "       'Report-possession/sale of narcotics', 'Report-noise/disturbance',\n",
       "       'C/V intervened on behalf of/observed encounter w/3rd party',\n",
       "       'Traffic accident', 'Aided case', 'EDP aided case',\n",
       "       'C/V at PCT to file complaint of crime', 'Report of other crime',\n",
       "       'PD auto checkpoint', 'Demonstration/protest', 'Arrest/Complainant',\n",
       "       'C/V requested investigation of crime', 'Assist ACS or other agency',\n",
       "       'C/V at PCT to obtain information', 'CV already in custody',\n",
       "       'Report-gun possession/shots fired',\n",
       "       'Traffic Incidents/Accident/Prk Violation', 'Stop/Question/Frisk',\n",
       "       'Complainant at Pct. to make a Cmpl/info', 'Vehicle Stop and Check',\n",
       "       'C/V requested info from officer',\n",
       "       'PD suspected C/V of violation/crime - subway',\n",
       "       'Telephone Call to Precinct/Command', 'Patrol Encounter', 'Others',\n",
       "       'Arrest/Not Complainant', 'Dispute', 'Report of Crime Past/Present',\n",
       "       'Summons/Complainant', 'Complainant Witnessing Incident',\n",
       "       'C/V at PCT to retrieve property',\n",
       "       'Report of Disturbance/Noise Complaint', 'Parade/special event',\n",
       "       'PD telephones CV', 'EDP Aided Cases', 'Aided Cases', 'Demonstrations',\n",
       "       'Transit checkpoint', 'Victim Subject of Sex Crime', 'No contact',\n",
       "       'No arrest made or summons issued', 'Moving violation summons issued',\n",
       "       'Arrest - other violation/crime', 'Summons - other violation/crime',\n",
       "       'Arrest - OGA', 'Other VTL violation summons issued',\n",
       "       'Arrest - resisting arrest', 'Arrest - disorderly conduct',\n",
       "       'Arrest - assault (against a PO)', 'Summons - disorderly conduct',\n",
       "       'Juvenile Report', 'Parking summons issued',\n",
       "       'Disorderly-Conduct/Arr/Summons', 'Assault/Arrested',\n",
       "       'Other Summons Claimed or Issued', 'Unknown',\n",
       "       'Arrest - harrassment (against a PO)', 'Arrest on Other Charge',\n",
       "       'Obstruct-Govt-Admin/Arrested', 'Traffic Summons Claimed or Issued',\n",
       "       'Resisting Arrest/Arrested', 'Harrassment/Arrested/Summons',\n",
       "       'Summons - OGA', 'Summons - harrassment (against a PO)', 'dispute',\n",
       "       'vehicle', 'suspected_violation', 'phone', 'warrant', 'aided_case',\n",
       "       'checkpoint', 'demonstrations_protests', 'report', 'disturbance',\n",
       "       'precinct_complaint_info', 'vehicle_violation', 'arrest_resist',\n",
       "       'arrest_obstruct', 'other_summons', 'outcome'],\n",
       "      dtype='object')"
      ]
     },
     "execution_count": 64,
     "metadata": {},
     "output_type": "execute_result"
    }
   ],
   "source": [
    "pd.options.display.max_rows = 4000\n",
    "pd.options.display.max_seq_items = 2000\n",
    "df.columns"
   ]
  },
  {
   "cell_type": "code",
   "execution_count": 92,
   "metadata": {},
   "outputs": [],
   "source": [
    "remaining_c_cols = [x for x in remaining_c_cols if x not in ['Sexist Remark', \n",
    "                                                             'Questioned immigraiton status',\n",
    "                                                             'Failure to provide RTKA card']]"
   ]
  },
  {
   "cell_type": "code",
   "execution_count": 66,
   "metadata": {},
   "outputs": [
    {
     "data": {
      "text/plain": [
       "['Action',\n",
       " 'Race',\n",
       " 'Question',\n",
       " 'Physical force',\n",
       " 'Refusal to process civilian complaint',\n",
       " 'Sexual orientation',\n",
       " 'Word',\n",
       " 'Retaliatory summons',\n",
       " 'Search (of person)',\n",
       " 'Pepper spray',\n",
       " 'Handcuffs too tight',\n",
       " 'Frisk',\n",
       " 'Strip-searched',\n",
       " 'Threat of force (verbal or physical)',\n",
       " 'Stop',\n",
       " 'Refusal to obtain medical treatment',\n",
       " 'Hit against inanimate object',\n",
       " 'Frisk and/or search',\n",
       " 'Question and/or stop',\n",
       " 'Premises entered and/or searched',\n",
       " 'Gun Drawn',\n",
       " 'Nonlethal restraining device',\n",
       " 'Retaliatory arrest',\n",
       " 'Seizure of property',\n",
       " 'Chokehold',\n",
       " 'Gender',\n",
       " 'Nightstick as club (incl asp & baton)',\n",
       " 'Threat to notify ACS',\n",
       " 'Other blunt instrument as a club',\n",
       " 'Interference with recording',\n",
       " 'Threat to damage/seize property',\n",
       " 'Gesture',\n",
       " 'Forcible Removal to Hospital',\n",
       " 'Entry of Premises',\n",
       " 'Ethnicity',\n",
       " 'Other - Force',\n",
       " 'Search of Premises',\n",
       " 'Threat re: removal to hospital',\n",
       " 'Photography/Videography',\n",
       " 'Demeanor/tone',\n",
       " 'Curse',\n",
       " 'Dragged/Pulled',\n",
       " 'Push/Shove',\n",
       " 'Detention',\n",
       " 'Other- Discourtesy',\n",
       " 'Mace',\n",
       " 'Restricted Breathing',\n",
       " 'Body Cavity Searches',\n",
       " 'Electronic device information deletion',\n",
       " 'Search of recording device',\n",
       " 'Nasty Words',\n",
       " 'Nightstick/Billy/Club',\n",
       " 'Black',\n",
       " 'Other - Abuse',\n",
       " 'Property Seized',\n",
       " 'Threat to Property',\n",
       " 'Religion',\n",
       " 'Hispanic',\n",
       " 'Sexual Misconduct (Sexual Humiliation)',\n",
       " 'Punch/Kick',\n",
       " 'Beat',\n",
       " 'Other - Ethnic Slur',\n",
       " 'Sex Miscon (Sexual/Romantic Proposition)',\n",
       " 'Gun pointed/gun drawn',\n",
       " 'Improper dissemination of medical info',\n",
       " 'Person Searched',\n",
       " 'Physical disability',\n",
       " 'Arrest/Onlooker',\n",
       " 'Failed to Obtain Language Interpretation',\n",
       " 'Rude Gesture',\n",
       " 'Jewish',\n",
       " 'Gay/Lesbian Slur',\n",
       " 'Premise Searched',\n",
       " 'Arrest/D. A. T.',\n",
       " 'Oriental',\n",
       " 'Sh Refuse Cmp',\n",
       " 'Slap',\n",
       " 'Police shield',\n",
       " 'White',\n",
       " 'Profane Gesture',\n",
       " 'Animal',\n",
       " 'Questioned immigration status',\n",
       " 'Gender Identity']"
      ]
     },
     "execution_count": 66,
     "metadata": {},
     "output_type": "execute_result"
    }
   ],
   "source": [
    "remaining_c_cols"
   ]
  },
  {
   "cell_type": "code",
   "execution_count": 68,
   "metadata": {},
   "outputs": [
    {
     "data": {
      "text/plain": [
       "Index(['unique_mos_id', 'first_name', 'last_name', 'command_now', 'shield_no',\n",
       "       'complaint_id', 'month_received', 'year_received', 'month_closed',\n",
       "       'year_closed', 'command_at_incident', 'rank_abbrev_incident',\n",
       "       'rank_abbrev_now', 'rank_now', 'rank_incident', 'mos_ethnicity',\n",
       "       'mos_gender', 'mos_age_incident', 'complainant_ethnicity',\n",
       "       'complainant_gender', 'complainant_age_incident', 'fado_type',\n",
       "       'allegation', 'precinct', 'contact_reason', 'outcome_description',\n",
       "       'board_disposition', 'received_date', 'closed_date', 'closure_time',\n",
       "       'demotion', 'promotion', 'same_ethnicity', 'mos_hispanic', 'mos_white',\n",
       "       'mos_black', 'mos_asian', 'mos_american_indian', 'c_black', 'c_unknown',\n",
       "       'c_white', 'c_asian', 'c_refused', 'c_hispanic', 'c_other_race',\n",
       "       'c_american_indian', 'c_female', 'c_male', 'c_not_described',\n",
       "       'c_transman_(ftm)', 'c_transwoman_(mtf)', 'c_gender_non-conforming',\n",
       "       'same_gender', 'fado_nums', 'abuse_of_authority', 'discourtesy',\n",
       "       'offensive_language', 'force', 'Failure to provide RTKA card', 'Action',\n",
       "       'Race', 'Question', 'Physical force',\n",
       "       'Refusal to process civilian complaint', 'Sexual orientation', 'Word',\n",
       "       'Retaliatory summons', 'Search (of person)', 'Pepper spray',\n",
       "       'Handcuffs too tight', 'Frisk', 'Strip-searched',\n",
       "       'Threat of force (verbal or physical)', 'Stop',\n",
       "       'Refusal to obtain medical treatment', 'Hit against inanimate object',\n",
       "       'Frisk and/or search', 'Question and/or stop',\n",
       "       'Premises entered and/or searched', 'Gun Drawn',\n",
       "       'Nonlethal restraining device', 'Retaliatory arrest',\n",
       "       'Seizure of property', 'Chokehold', 'Gender',\n",
       "       'Nightstick as club (incl asp & baton)', 'Threat to notify ACS',\n",
       "       'Other blunt instrument as a club', 'Interference with recording',\n",
       "       'Threat to damage/seize property', 'Gesture',\n",
       "       'Forcible Removal to Hospital', 'Entry of Premises', 'Ethnicity',\n",
       "       'Other - Force', 'Search of Premises', 'Threat re: removal to hospital',\n",
       "       'Photography/Videography', 'Demeanor/tone', 'Curse', 'Dragged/Pulled',\n",
       "       'Push/Shove', 'Detention', 'Other- Discourtesy', 'Mace',\n",
       "       'Restricted Breathing', 'Body Cavity Searches',\n",
       "       'Electronic device information deletion', 'Search of recording device',\n",
       "       'Nasty Words', 'Nightstick/Billy/Club', 'Black', 'Other - Abuse',\n",
       "       'Property Seized', 'Threat to Property', 'Religion', 'Hispanic',\n",
       "       'Sexual Misconduct (Sexual Humiliation)', 'Punch/Kick', 'Beat',\n",
       "       'Other - Ethnic Slur', 'Sex Miscon (Sexual/Romantic Proposition)',\n",
       "       'Gun pointed/gun drawn', 'Improper dissemination of medical info',\n",
       "       'Person Searched', 'Physical disability', 'Arrest/Onlooker',\n",
       "       'Failed to Obtain Language Interpretation', 'Rude Gesture', 'Jewish',\n",
       "       'Gay/Lesbian Slur', 'Premise Searched', 'Arrest/D. A. T.', 'Oriental',\n",
       "       'Sh Refuse Cmp', 'Slap', 'Police shield', 'White', 'Profane Gesture',\n",
       "       'Sexist Remark', 'Animal', 'Questioned immigration status',\n",
       "       'Gender Identity', 'refusal to provide shield number_merge_name/shield',\n",
       "       'vehicle stop', 'vehicle search_merge_searched',\n",
       "       'threat of arrest_merge_force', 'gun pointed', 'property damaged',\n",
       "       'refusal to show search warrant_merge_arrest',\n",
       "       'sex miscon (sexual harassment, verbal)_merge_gesture)',\n",
       "       'threat of summons', 'flashlight as club', 'gun as club',\n",
       "       'radio as club', 'gun fired', 'Report-domestic dispute',\n",
       "       'Moving violation', 'PD suspected C/V of violation/crime - street',\n",
       "       'Report-dispute', 'C/V telephoned PCT', 'Other',\n",
       "       'Regulatory inspection', 'Other violation of VTL', 'Parking violation',\n",
       "       'Execution of search warrant',\n",
       "       'PD suspected C/V of violation/crime - bldg',\n",
       "       'Execution of arrest/bench warrant',\n",
       "       'PD suspected C/V of violation/crime - auto',\n",
       "       'Report-possession/sale of narcotics', 'Report-noise/disturbance',\n",
       "       'C/V intervened on behalf of/observed encounter w/3rd party',\n",
       "       'Traffic accident', 'Aided case', 'EDP aided case',\n",
       "       'C/V at PCT to file complaint of crime', 'Report of other crime',\n",
       "       'PD auto checkpoint', 'Demonstration/protest', 'Arrest/Complainant',\n",
       "       'C/V requested investigation of crime', 'Assist ACS or other agency',\n",
       "       'C/V at PCT to obtain information', 'CV already in custody',\n",
       "       'Report-gun possession/shots fired',\n",
       "       'Traffic Incidents/Accident/Prk Violation', 'Stop/Question/Frisk',\n",
       "       'Complainant at Pct. to make a Cmpl/info', 'Vehicle Stop and Check',\n",
       "       'C/V requested info from officer',\n",
       "       'PD suspected C/V of violation/crime - subway',\n",
       "       'Telephone Call to Precinct/Command', 'Patrol Encounter', 'Others',\n",
       "       'Arrest/Not Complainant', 'Dispute', 'Report of Crime Past/Present',\n",
       "       'Summons/Complainant', 'Complainant Witnessing Incident',\n",
       "       'C/V at PCT to retrieve property',\n",
       "       'Report of Disturbance/Noise Complaint', 'Parade/special event',\n",
       "       'PD telephones CV', 'EDP Aided Cases', 'Aided Cases', 'Demonstrations',\n",
       "       'Transit checkpoint', 'Victim Subject of Sex Crime', 'No contact',\n",
       "       'No arrest made or summons issued', 'Moving violation summons issued',\n",
       "       'Arrest - other violation/crime', 'Summons - other violation/crime',\n",
       "       'Arrest - OGA', 'Other VTL violation summons issued',\n",
       "       'Arrest - resisting arrest', 'Arrest - disorderly conduct',\n",
       "       'Arrest - assault (against a PO)', 'Summons - disorderly conduct',\n",
       "       'Juvenile Report', 'Parking summons issued',\n",
       "       'Disorderly-Conduct/Arr/Summons', 'Assault/Arrested',\n",
       "       'Other Summons Claimed or Issued', 'Unknown',\n",
       "       'Arrest - harrassment (against a PO)', 'Arrest on Other Charge',\n",
       "       'Obstruct-Govt-Admin/Arrested', 'Traffic Summons Claimed or Issued',\n",
       "       'Resisting Arrest/Arrested', 'Harrassment/Arrested/Summons',\n",
       "       'Summons - OGA', 'Summons - harrassment (against a PO)', 'dispute',\n",
       "       'vehicle', 'suspected_violation', 'phone', 'warrant', 'aided_case',\n",
       "       'checkpoint', 'demonstrations_protests', 'report', 'disturbance',\n",
       "       'precinct_complaint_info', 'vehicle_violation', 'arrest_resist',\n",
       "       'arrest_obstruct', 'other_summons', 'outcome'],\n",
       "      dtype='object')"
      ]
     },
     "execution_count": 68,
     "metadata": {},
     "output_type": "execute_result"
    }
   ],
   "source": [
    "df.columns"
   ]
  },
  {
   "cell_type": "code",
   "execution_count": 70,
   "metadata": {},
   "outputs": [],
   "source": [
    "def train_test_split(X, y, train_size, random_seed=0):\n",
    "    random.seed(random_seed)\n",
    "    all_inds = list(range(len(y)))\n",
    "    train_inds = random.sample(range(len(y)), train_size)\n",
    "    test_inds = [x for x in all_inds if x not in train_inds]\n",
    "    train_X = X.iloc[train_inds]\n",
    "    train_Y = y[train_inds]\n",
    "    test_X = X.iloc[test_inds]\n",
    "    test_Y = y[test_inds]\n",
    "    return train_X, train_Y, test_X, test_Y"
   ]
  },
  {
   "cell_type": "code",
   "execution_count": 100,
   "metadata": {
    "scrolled": true
   },
   "outputs": [
    {
     "name": "stderr",
     "output_type": "stream",
     "text": [
      "C:\\Users\\nmpie\\Anaconda3\\lib\\site-packages\\ipykernel_launcher.py:26: SettingWithCopyWarning: \n",
      "A value is trying to be set on a copy of a slice from a DataFrame.\n",
      "Try using .loc[row_indexer,col_indexer] = value instead\n",
      "\n",
      "See the caveats in the documentation: http://pandas.pydata.org/pandas-docs/stable/user_guide/indexing.html#returning-a-view-versus-a-copy\n"
     ]
    },
    {
     "name": "stdout",
     "output_type": "stream",
     "text": [
      "Column addition succeeded at Action\n",
      "Column addition succeeded at Race\n",
      "Column addition succeeded at Question\n",
      "Column addition succeeded at Physical force\n",
      "Column addition succeeded at Refusal to process civilian complaint\n",
      "Column addition succeeded at Sexual orientation\n",
      "Column addition succeeded at Word\n",
      "Column addition succeeded at Retaliatory summons\n",
      "Column addition succeeded at Search (of person)\n",
      "Column addition succeeded at Pepper spray\n",
      "Column addition succeeded at Handcuffs too tight\n",
      "Column addition succeeded at Frisk\n",
      "Column addition succeeded at Strip-searched\n",
      "Column addition succeeded at Threat of force (verbal or physical)\n",
      "Column addition succeeded at Stop\n",
      "Column addition succeeded at Refusal to obtain medical treatment\n",
      "Column addition succeeded at Hit against inanimate object\n",
      "Column addition succeeded at Frisk and/or search\n",
      "Column addition succeeded at Question and/or stop\n",
      "Column addition succeeded at Premises entered and/or searched\n",
      "Column addition succeeded at Gun Drawn\n",
      "Column addition succeeded at Nonlethal restraining device\n",
      "Column addition succeeded at Retaliatory arrest\n",
      "Column addition succeeded at Seizure of property\n",
      "Column addition succeeded at Chokehold\n",
      "Column addition succeeded at Gender\n",
      "Column addition succeeded at Nightstick as club (incl asp & baton)\n",
      "Column addition succeeded at Threat to notify ACS\n",
      "Column addition succeeded at Other blunt instrument as a club\n",
      "Column addition succeeded at Interference with recording\n",
      "Column addition succeeded at Threat to damage/seize property\n",
      "Column addition succeeded at Gesture\n",
      "Column addition succeeded at Forcible Removal to Hospital\n",
      "Column addition succeeded at Entry of Premises\n",
      "Column addition succeeded at Ethnicity\n",
      "Column addition succeeded at Other - Force\n",
      "Column addition succeeded at Search of Premises\n",
      "Column addition succeeded at Threat re: removal to hospital\n",
      "Column addition succeeded at Photography/Videography\n",
      "Column addition succeeded at Demeanor/tone\n",
      "Column addition succeeded at Curse\n",
      "Column addition succeeded at Dragged/Pulled\n",
      "Column addition succeeded at Push/Shove\n",
      "Column addition succeeded at Detention\n",
      "Column addition succeeded at Other- Discourtesy\n",
      "Column addition succeeded at Mace\n",
      "Column addition succeeded at Restricted Breathing\n",
      "Column addition succeeded at Body Cavity Searches\n",
      "Column addition succeeded at Electronic device information deletion\n",
      "Column addition succeeded at Search of recording device\n",
      "Column addition succeeded at Nasty Words\n",
      "Column addition succeeded at Nightstick/Billy/Club\n",
      "Column addition succeeded at Black\n",
      "Column addition succeeded at Other - Abuse\n",
      "Column addition succeeded at Property Seized\n",
      "Column addition succeeded at Threat to Property\n",
      "Column addition succeeded at Religion\n",
      "Column addition succeeded at Hispanic\n",
      "Column addition succeeded at Sexual Misconduct (Sexual Humiliation)\n",
      "Column addition succeeded at Punch/Kick\n",
      "Column addition succeeded at Beat\n",
      "Column addition succeeded at Other - Ethnic Slur\n",
      "Column addition succeeded at Sex Miscon (Sexual/Romantic Proposition)\n",
      "Column addition succeeded at Gun pointed/gun drawn\n",
      "Column addition succeeded at Improper dissemination of medical info\n",
      "Column addition succeeded at Person Searched\n",
      "Column addition succeeded at Physical disability\n",
      "Column addition succeeded at Arrest/Onlooker\n",
      "Column addition succeeded at Failed to Obtain Language Interpretation\n",
      "Column addition succeeded at Rude Gesture\n",
      "Column addition succeeded at Jewish\n",
      "Column addition succeeded at Gay/Lesbian Slur\n",
      "Column addition succeeded at Premise Searched\n",
      "Column addition succeeded at Arrest/D. A. T.\n",
      "Column addition succeeded at Oriental\n",
      "Column addition succeeded at Sh Refuse Cmp\n",
      "Column addition succeeded at Slap\n",
      "Column addition succeeded at Police shield\n",
      "Column addition succeeded at White\n",
      "Column addition succeeded at Profane Gesture\n",
      "Column addition succeeded at Animal\n",
      "Column addition failed at Questioned immigration status\n",
      "Column addition succeeded at Gender Identity\n"
     ]
    }
   ],
   "source": [
    "y = df['outcome']\n",
    "y = y.astype(float)\n",
    "failed_cols = []\n",
    "new_cols = []\n",
    "for clmn in remaining_c_cols:\n",
    "\n",
    "    officer_vars = (['rank_abbrev_incident', 'mos_gender', 'mos_age_incident', \n",
    "                    'same_ethnicity',  'closure_time','demotion','promotion','rank_abbrev_now'] \n",
    "                    + constructed_cols \n",
    "                    + remaining_cols)\n",
    "#                 + remaining_cols_2)\n",
    "# complainant_vars = ['complainant_age_incident', 'fado_nums']\n",
    "#Attempting to replace fado_nums with dummies\n",
    "    complainant_vars = (['complainant_age_incident', \n",
    "                         'abuse_of_authority', 'discourtesy',\n",
    "                         'offensive_language', 'force',\n",
    "#                          'force', 'power', 'rude', 'words',\n",
    "                         'c_black', 'same_ethnicity',\n",
    "                           'c_unknown', 'c_white', 'c_asian', 'c_hispanic',\n",
    "                           'c_american_indian',\n",
    "                        'c_female', 'c_male','c_transman_(ftm)', 'c_transwoman_(mtf)',\n",
    "                        'c_gender_non-conforming'] \n",
    "                        + complainant_cols + [clmn] + new_cols)\n",
    "    X = df[officer_vars + complainant_vars]\n",
    "    for col in X:\n",
    "        X[col] = X[col].astype(float)\n",
    "    train_X, train_y, test_X, test_y = train_test_split(X, y, round(len(y)*0.8))\n",
    "    try:\n",
    "        w_hat = la.inv(train_X.T@train_X)@train_X.T@train_y\n",
    "        new_cols.append(clmn)\n",
    "        print('Column addition succeeded at {}'.format(clmn))\n",
    "    except:\n",
    "        failed_cols.append(clmn)\n",
    "        print('Column addition failed at {}'.format(clmn))\n",
    "\n",
    "#All columns work except for Questioned Immigration Status\n",
    "        "
   ]
  },
  {
   "cell_type": "code",
   "execution_count": 99,
   "metadata": {},
   "outputs": [],
   "source": [
    "mos_eth_vars = ['mos_hispanic', 'mos_black', 'mos_asian', 'mos_american_indian']"
   ]
  },
  {
   "cell_type": "code",
   "execution_count": 101,
   "metadata": {},
   "outputs": [],
   "source": [
    "# Test run\n",
    "officer_vars = (['rank_abbrev_incident', 'mos_gender', 'mos_age_incident', \n",
    "                'same_ethnicity',  'closure_time','demotion','promotion','rank_abbrev_now'] \n",
    "                + constructed_cols \n",
    "                + remaining_cols\n",
    "                + mos_eth_vars)\n",
    "# complainant_vars = ['complainant_age_incident', 'fado_nums']\n",
    "#Attempting to replace fado_nums with dummies\n",
    "complainant_vars = (['complainant_age_incident', \n",
    "                        'abuse_of_authority', 'discourtesy',\n",
    "                         'offensive_language', 'force',\n",
    "#                      'force', 'power', 'rude', 'words',\n",
    "                     'c_black', \n",
    "                       'c_unknown', 'c_white', 'c_asian', 'c_hispanic',\n",
    "                       'c_american_indian',\n",
    "                    'c_female', 'c_male','c_transman_(ftm)', 'c_transwoman_(mtf)',\n",
    "                    'c_gender_non-conforming'] \n",
    "                    + complainant_cols\n",
    "                    + new_cols)\n",
    "X = df[officer_vars + complainant_vars]\n",
    "y = df['outcome']"
   ]
  },
  {
   "cell_type": "code",
   "execution_count": 102,
   "metadata": {},
   "outputs": [
    {
     "name": "stderr",
     "output_type": "stream",
     "text": [
      "C:\\Users\\nmpie\\Anaconda3\\lib\\site-packages\\ipykernel_launcher.py:3: SettingWithCopyWarning: \n",
      "A value is trying to be set on a copy of a slice from a DataFrame.\n",
      "Try using .loc[row_indexer,col_indexer] = value instead\n",
      "\n",
      "See the caveats in the documentation: http://pandas.pydata.org/pandas-docs/stable/user_guide/indexing.html#returning-a-view-versus-a-copy\n",
      "  This is separate from the ipykernel package so we can avoid doing imports until\n"
     ]
    }
   ],
   "source": [
    "y = y.astype(float)\n",
    "for col in X:\n",
    "    X[col] = X[col].astype(float)"
   ]
  },
  {
   "cell_type": "code",
   "execution_count": 103,
   "metadata": {},
   "outputs": [
    {
     "data": {
      "text/plain": [
       "(33358, 168)"
      ]
     },
     "execution_count": 103,
     "metadata": {},
     "output_type": "execute_result"
    }
   ],
   "source": [
    "X.shape"
   ]
  },
  {
   "cell_type": "code",
   "execution_count": 245,
   "metadata": {},
   "outputs": [],
   "source": [
    "train_X, train_y, test_X, test_y = train_test_split(X, y, round(len(y)*0.8))"
   ]
  },
  {
   "cell_type": "code",
   "execution_count": 85,
   "metadata": {},
   "outputs": [
    {
     "data": {
      "text/plain": [
       "(26686, 60)"
      ]
     },
     "execution_count": 85,
     "metadata": {},
     "output_type": "execute_result"
    }
   ],
   "source": [
    "train_X.shape"
   ]
  },
  {
   "cell_type": "code",
   "execution_count": 246,
   "metadata": {},
   "outputs": [],
   "source": [
    "U, S, VT = la.svd(np.array(X), full_matrices=False)"
   ]
  },
  {
   "cell_type": "code",
   "execution_count": 247,
   "metadata": {},
   "outputs": [
    {
     "data": {
      "text/plain": [
       "array([6.13248197e+04, 4.24503488e+03, 1.53739105e+03, 2.15519566e+02,\n",
       "       1.27068501e+02, 1.14594781e+02, 1.01484966e+02, 9.93689585e+01,\n",
       "       9.87417144e+01, 9.52716251e+01, 8.62774655e+01, 8.25159025e+01,\n",
       "       7.22149023e+01, 6.83734553e+01, 5.99750887e+01, 5.90374057e+01,\n",
       "       4.66027873e+01, 4.56756549e+01, 4.52869791e+01, 4.44726727e+01,\n",
       "       4.25213023e+01, 4.18326035e+01, 4.16354750e+01, 4.09176375e+01,\n",
       "       3.97753141e+01, 3.89604220e+01, 3.86353857e+01, 3.72819505e+01,\n",
       "       3.67565122e+01, 3.52738647e+01, 3.42280294e+01, 3.31722262e+01,\n",
       "       3.27061790e+01, 3.22032774e+01, 3.06954021e+01, 3.05307527e+01,\n",
       "       2.97498447e+01, 2.79985978e+01, 2.72233652e+01, 2.64004515e+01,\n",
       "       2.55744272e+01, 2.44642159e+01, 2.34870170e+01, 2.30905130e+01,\n",
       "       2.26395291e+01, 2.24894631e+01, 2.17627731e+01, 2.06272994e+01,\n",
       "       2.03767678e+01, 1.92262233e+01, 1.83452614e+01, 1.80381019e+01,\n",
       "       1.72755849e+01, 1.72173983e+01, 1.65993152e+01, 1.63490833e+01,\n",
       "       1.60595653e+01, 1.58100286e+01, 1.56681776e+01, 1.51512776e+01,\n",
       "       1.47228332e+01, 1.43103118e+01, 1.41351429e+01, 1.39953601e+01,\n",
       "       1.39211845e+01, 1.35317873e+01, 1.31841861e+01, 1.29464192e+01,\n",
       "       1.28196593e+01, 1.24774457e+01, 1.22829871e+01, 1.22139593e+01,\n",
       "       1.16683890e+01, 1.15088556e+01, 1.12966301e+01, 1.09298796e+01,\n",
       "       1.08095934e+01, 1.06952401e+01, 1.06132459e+01, 1.05020540e+01,\n",
       "       1.04199904e+01, 1.00553458e+01, 9.96487547e+00, 9.86154853e+00,\n",
       "       9.76967185e+00, 9.56235426e+00, 9.27405637e+00, 9.07380930e+00,\n",
       "       8.96354708e+00, 8.95430634e+00, 8.82903445e+00, 8.37265780e+00,\n",
       "       8.10886396e+00, 7.85479066e+00, 7.76772362e+00, 7.70631903e+00,\n",
       "       7.54768980e+00, 7.43160776e+00, 7.25231987e+00, 7.01710977e+00,\n",
       "       6.85054801e+00, 6.72699105e+00, 6.55552945e+00, 6.54085859e+00,\n",
       "       6.44039328e+00, 6.33622255e+00, 6.27684129e+00, 6.26895672e+00,\n",
       "       6.18559409e+00, 6.01381261e+00, 5.97675124e+00, 5.88740048e+00,\n",
       "       5.86204334e+00, 5.70853487e+00, 5.62056520e+00, 5.41516109e+00,\n",
       "       5.11892417e+00, 5.00306573e+00, 4.78734301e+00, 4.69899631e+00,\n",
       "       4.66948227e+00, 4.48415794e+00, 4.44166562e+00, 4.38716029e+00,\n",
       "       4.35370381e+00, 4.12047710e+00, 4.04853576e+00, 3.82594192e+00,\n",
       "       3.80643991e+00, 3.79329742e+00, 3.59283348e+00, 3.56858034e+00,\n",
       "       3.45414425e+00, 3.42825327e+00, 3.34486232e+00, 3.22041920e+00,\n",
       "       3.15916661e+00, 2.91849996e+00, 2.87526157e+00, 2.81709424e+00,\n",
       "       2.77802944e+00, 2.76490138e+00, 2.43168999e+00, 2.34797092e+00,\n",
       "       2.30661202e+00, 2.24095550e+00, 2.22180463e+00, 2.20697365e+00,\n",
       "       2.15221166e+00, 1.99805452e+00, 1.98509839e+00, 1.94156920e+00,\n",
       "       1.92900139e+00, 1.76161705e+00, 1.72877720e+00, 1.72690013e+00,\n",
       "       1.72323142e+00, 1.69913539e+00, 1.55697889e+00, 1.40984965e+00,\n",
       "       1.39751924e+00, 1.38418666e+00, 1.35576536e+00, 9.84503906e-01,\n",
       "       8.66952674e-01])"
      ]
     },
     "execution_count": 247,
     "metadata": {},
     "output_type": "execute_result"
    }
   ],
   "source": [
    "S"
   ]
  },
  {
   "cell_type": "code",
   "execution_count": 127,
   "metadata": {},
   "outputs": [
    {
     "data": {
      "text/plain": [
       "array([[ 1.00000000e+00,  7.37353120e-14,  3.20000000e+01, ...,\n",
       "         3.47823967e-17, -1.62769840e-17, -6.48886750e-17],\n",
       "       [ 1.00000000e+00,  6.86598641e-14,  2.40000000e+01, ...,\n",
       "         6.12897574e-16, -1.92845459e-16, -1.40465703e-16],\n",
       "       [ 1.00000000e+00,  6.67832686e-14,  2.40000000e+01, ...,\n",
       "        -6.11058195e-17, -7.97488588e-17, -6.38600783e-17],\n",
       "       ...,\n",
       "       [ 1.00000000e+00, -8.50400270e-14,  3.60000000e+01, ...,\n",
       "        -6.75493446e-17,  3.37721972e-18, -1.17074395e-16],\n",
       "       [ 1.00000000e+00, -8.50400270e-14,  3.60000000e+01, ...,\n",
       "        -6.75493446e-17,  3.37721972e-18, -1.17074395e-16],\n",
       "       [ 1.00000000e+00, -8.50569128e-14,  3.60000000e+01, ...,\n",
       "        -6.70215935e-17,  3.83941643e-18, -1.17081143e-16]])"
      ]
     },
     "execution_count": 127,
     "metadata": {},
     "output_type": "execute_result"
    }
   ],
   "source": [
    "U@np.diag(S)@VT"
   ]
  },
  {
   "cell_type": "code",
   "execution_count": 43,
   "metadata": {},
   "outputs": [
    {
     "data": {
      "text/plain": [
       "array([[ 1.,  0., 32., ...,  0.,  0.,  0.],\n",
       "       [ 1.,  0., 24., ...,  0.,  0.,  0.],\n",
       "       [ 1.,  0., 24., ...,  0.,  0.,  0.],\n",
       "       ...,\n",
       "       [ 1.,  0., 36., ...,  0.,  0.,  0.],\n",
       "       [ 1.,  0., 36., ...,  0.,  0.,  0.],\n",
       "       [ 1.,  0., 36., ...,  0.,  0.,  0.]])"
      ]
     },
     "execution_count": 43,
     "metadata": {},
     "output_type": "execute_result"
    }
   ],
   "source": [
    "np.array(X)"
   ]
  },
  {
   "cell_type": "code",
   "execution_count": 248,
   "metadata": {},
   "outputs": [
    {
     "data": {
      "text/plain": [
       "0     -0.026170\n",
       "1      0.153854\n",
       "2      0.001813\n",
       "3     -0.024083\n",
       "4     -0.000249\n",
       "5      0.004262\n",
       "6     -0.099516\n",
       "7     -0.074405\n",
       "8     -0.014233\n",
       "9     -0.155314\n",
       "10     0.111485\n",
       "11     0.084848\n",
       "12    -0.001266\n",
       "13     0.023737\n",
       "14     0.042581\n",
       "15     0.097879\n",
       "16     0.125443\n",
       "17     0.130066\n",
       "18     0.059602\n",
       "19     0.104305\n",
       "20    -0.234904\n",
       "21     0.046028\n",
       "22    -0.002961\n",
       "23    -0.359003\n",
       "24     0.000422\n",
       "25    -0.011089\n",
       "26    -0.162459\n",
       "27     0.081301\n",
       "28     0.108785\n",
       "29    -0.172434\n",
       "30    -0.326746\n",
       "31    -0.257762\n",
       "32    -0.829985\n",
       "33    -0.047734\n",
       "34    -0.061172\n",
       "35    -0.741399\n",
       "36    -0.275140\n",
       "37     0.027171\n",
       "38     0.161501\n",
       "39    -0.176658\n",
       "40    -0.084768\n",
       "41    -0.116677\n",
       "42     0.727626\n",
       "43     0.120355\n",
       "44     0.053399\n",
       "45     0.049610\n",
       "46    -0.283291\n",
       "47     0.244284\n",
       "48    -0.022123\n",
       "49     0.172881\n",
       "50    -0.019443\n",
       "51    -0.013816\n",
       "52     0.071912\n",
       "53    -0.178848\n",
       "54     0.000112\n",
       "55    -0.391821\n",
       "56     0.287237\n",
       "57     0.279752\n",
       "58    -0.461595\n",
       "59    -0.011254\n",
       "60     0.059647\n",
       "61     0.034549\n",
       "62     0.086300\n",
       "63     0.002083\n",
       "64     0.161917\n",
       "65    -0.057821\n",
       "66    -0.016623\n",
       "67     0.234207\n",
       "68     0.503031\n",
       "69     0.856587\n",
       "70    -0.673800\n",
       "71    -0.420251\n",
       "72    -0.281870\n",
       "73    -0.662913\n",
       "74     0.250531\n",
       "75    -0.686431\n",
       "76    -0.806406\n",
       "77    -0.446235\n",
       "78    -0.545252\n",
       "79    -0.058548\n",
       "80     0.309254\n",
       "81    -0.028725\n",
       "82     0.604361\n",
       "83    -0.646223\n",
       "84    -0.288995\n",
       "85    -0.215017\n",
       "86     0.166211\n",
       "87     0.022753\n",
       "88    -0.321360\n",
       "89    -0.762853\n",
       "90     0.365715\n",
       "91    -0.572976\n",
       "92     0.457117\n",
       "93    -0.353852\n",
       "94    -0.116667\n",
       "95    -0.550984\n",
       "96    -0.745136\n",
       "97    -0.148728\n",
       "98    -0.699195\n",
       "99     0.022277\n",
       "100   -0.147412\n",
       "101   -0.200296\n",
       "102   -0.221959\n",
       "103   -0.587648\n",
       "104    0.413412\n",
       "105    0.300580\n",
       "106   -0.205125\n",
       "107   -0.171684\n",
       "108    0.010920\n",
       "109    0.241073\n",
       "110   -0.604867\n",
       "111    0.111113\n",
       "112   -0.242410\n",
       "113   -0.615354\n",
       "114   -1.075719\n",
       "115   -0.183951\n",
       "116   -0.188964\n",
       "117   -0.174854\n",
       "118    0.037417\n",
       "119   -0.252197\n",
       "120   -0.289331\n",
       "121   -0.169931\n",
       "122   -0.658584\n",
       "123   -0.795055\n",
       "124    0.022418\n",
       "125    0.019008\n",
       "126   -0.042810\n",
       "127   -1.169759\n",
       "128    0.186589\n",
       "129   -0.330072\n",
       "130   -0.272484\n",
       "131   -0.605707\n",
       "132   -0.769260\n",
       "133   -0.956370\n",
       "134    0.077323\n",
       "135   -0.139112\n",
       "136   -0.556032\n",
       "137   -0.011009\n",
       "138   -1.058881\n",
       "139    0.208001\n",
       "140   -0.282945\n",
       "141    0.197897\n",
       "142   -0.089506\n",
       "143    0.157701\n",
       "144   -0.264669\n",
       "145   -0.557795\n",
       "146   -0.652438\n",
       "147   -1.276341\n",
       "148   -0.545628\n",
       "149    0.042922\n",
       "150   -0.809814\n",
       "151    0.643725\n",
       "152   -1.449787\n",
       "153   -0.733205\n",
       "154   -1.405417\n",
       "155   -0.517905\n",
       "156   -0.260444\n",
       "157   -0.648324\n",
       "158    0.053314\n",
       "159   -0.383062\n",
       "160   -0.058469\n",
       "161   -0.516819\n",
       "162   -0.372546\n",
       "163    0.336179\n",
       "164   -0.504288\n",
       "dtype: float64"
      ]
     },
     "execution_count": 248,
     "metadata": {},
     "output_type": "execute_result"
    }
   ],
   "source": [
    "w_hat = la.inv(train_X.T@train_X)@train_X.T@train_y\n",
    "w_hat\n",
    "#Female officers has a positive coefficient on substantiated claims"
   ]
  },
  {
   "cell_type": "code",
   "execution_count": 249,
   "metadata": {},
   "outputs": [
    {
     "name": "stdout",
     "output_type": "stream",
     "text": [
      "(6672, 165) (165,)\n"
     ]
    }
   ],
   "source": [
    "train_preds = np.array(train_X)@np.array(w_hat)\n",
    "train_preds = [-1 if x < -0.5 else x for x in train_preds]\n",
    "train_preds = [1 if x > 0.5 else x for x in train_preds]\n",
    "train_preds = [0 if x not in (-1, 1) else x for x in train_preds]\n",
    "\n",
    "# predictions = np.array(test_X)@np.array(w_hat)\n",
    "print(test_X.shape, w_hat.shape)\n",
    "predictions = np.array(test_X)@np.array(w_hat)\n",
    "predictions = [np.round(x) for x in predictions]"
   ]
  },
  {
   "cell_type": "code",
   "execution_count": 250,
   "metadata": {},
   "outputs": [
    {
     "data": {
      "text/plain": [
       "-985.0"
      ]
     },
     "execution_count": 250,
     "metadata": {},
     "output_type": "execute_result"
    }
   ],
   "source": [
    "sum(predictions)"
   ]
  },
  {
   "cell_type": "code",
   "execution_count": 251,
   "metadata": {},
   "outputs": [
    {
     "data": {
      "text/plain": [
       "0.6140298283744285"
      ]
     },
     "execution_count": 251,
     "metadata": {},
     "output_type": "execute_result"
    }
   ],
   "source": [
    "train_error = ((np.array(train_preds)-train_y))\n",
    "train_error = [abs(x) for x in train_error]\n",
    "sum(train_error) / len(train_error)"
   ]
  },
  {
   "cell_type": "code",
   "execution_count": 107,
   "metadata": {},
   "outputs": [],
   "source": [
    "new_df = X.copy()\n",
    "new_df['officer_id'] = df['unique_mos_id']\n",
    "new_df['outcome'] = y\n",
    "new_df['officer_charged'] = df['officer_charged']"
   ]
  },
  {
   "cell_type": "code",
   "execution_count": 111,
   "metadata": {},
   "outputs": [
    {
     "data": {
      "text/plain": [
       "172"
      ]
     },
     "execution_count": 111,
     "metadata": {},
     "output_type": "execute_result"
    }
   ],
   "source": [
    "len(new_df.columns)"
   ]
  },
  {
   "cell_type": "code",
   "execution_count": 110,
   "metadata": {},
   "outputs": [],
   "source": [
    "new_df['complaint_id'] = df['complaint_id']"
   ]
  },
  {
   "cell_type": "code",
   "execution_count": 112,
   "metadata": {},
   "outputs": [],
   "source": [
    "new_df.to_csv('allegations_cleaned2.csv')"
   ]
  },
  {
   "cell_type": "code",
   "execution_count": 12,
   "metadata": {},
   "outputs": [],
   "source": [
    "df2 = pd.read_csv('allegations_cleaned2.csv')"
   ]
  },
  {
   "cell_type": "code",
   "execution_count": 9,
   "metadata": {},
   "outputs": [],
   "source": [
    "df2['board_disposition'] = df['board_disposition']"
   ]
  },
  {
   "cell_type": "code",
   "execution_count": 11,
   "metadata": {},
   "outputs": [],
   "source": [
    "df2.to_csv('allegations_cleaned2.csv')"
   ]
  },
  {
   "cell_type": "code",
   "execution_count": 13,
   "metadata": {},
   "outputs": [
    {
     "data": {
      "text/plain": [
       "['Unnamed: 0',\n",
       " 'Unnamed: 0.1',\n",
       " 'rank_abbrev_incident',\n",
       " 'mos_gender',\n",
       " 'mos_age_incident',\n",
       " 'same_ethnicity',\n",
       " 'closure_time',\n",
       " 'demotion',\n",
       " 'promotion',\n",
       " 'rank_abbrev_now',\n",
       " 'dispute',\n",
       " 'vehicle',\n",
       " 'suspected_violation',\n",
       " 'phone',\n",
       " 'warrant',\n",
       " 'aided_case',\n",
       " 'checkpoint',\n",
       " 'demonstrations_protests',\n",
       " 'report',\n",
       " 'disturbance',\n",
       " 'precinct_complaint_info',\n",
       " 'vehicle_violation',\n",
       " 'arrest_resist',\n",
       " 'arrest_obstruct',\n",
       " 'other_summons',\n",
       " 'Arrest/Complainant',\n",
       " 'C/V intervened on behalf of/observed encounter w/3rd party',\n",
       " 'C/V at PCT to file complaint of crime',\n",
       " 'Regulatory inspection',\n",
       " 'Assist ACS or other agency',\n",
       " 'CV already in custody',\n",
       " 'Report-gun possession/shots fired',\n",
       " 'Stop/Question/Frisk',\n",
       " 'C/V requested info from officer',\n",
       " 'Patrol Encounter',\n",
       " 'Arrest/Not Complainant',\n",
       " 'Summons/Complainant',\n",
       " 'Complainant Witnessing Incident',\n",
       " 'C/V at PCT to retrieve property',\n",
       " 'Parade/special event',\n",
       " 'Victim Subject of Sex Crime',\n",
       " 'No contact',\n",
       " 'Arrest - other violation/crime',\n",
       " 'No arrest made or summons issued',\n",
       " 'Assault/Arrested',\n",
       " 'Arrest - harrassment (against a PO)',\n",
       " 'Arrest on Other Charge',\n",
       " 'Harrassment/Arrested/Summons',\n",
       " 'Arrest - disorderly conduct',\n",
       " 'Arrest - assault (against a PO)',\n",
       " 'Summons - disorderly conduct',\n",
       " 'Summons - harrassment (against a PO)',\n",
       " 'Parking summons issued',\n",
       " 'Disorderly-Conduct/Arr/Summons',\n",
       " 'Juvenile Report',\n",
       " 'mos_hispanic',\n",
       " 'mos_black',\n",
       " 'mos_asian',\n",
       " 'mos_american_indian',\n",
       " 'complainant_age_incident',\n",
       " 'abuse_of_authority',\n",
       " 'discourtesy',\n",
       " 'offensive_language',\n",
       " 'force',\n",
       " 'c_black',\n",
       " 'c_unknown',\n",
       " 'c_white',\n",
       " 'c_asian',\n",
       " 'c_hispanic',\n",
       " 'c_american_indian',\n",
       " 'c_female',\n",
       " 'c_male',\n",
       " 'c_transman_(ftm)',\n",
       " 'c_transwoman_(mtf)',\n",
       " 'c_gender_non-conforming',\n",
       " 'refusal to provide shield number_merge_name/shield',\n",
       " 'vehicle stop',\n",
       " 'vehicle search_merge_searched',\n",
       " 'threat of arrest_merge_force',\n",
       " 'gun pointed',\n",
       " 'property damaged',\n",
       " 'refusal to show search warrant_merge_arrest',\n",
       " 'sex miscon (sexual harassment, verbal)_merge_gesture)',\n",
       " 'threat of summons',\n",
       " 'flashlight as club',\n",
       " 'gun as club',\n",
       " 'radio as club',\n",
       " 'gun fired',\n",
       " 'Action',\n",
       " 'Race',\n",
       " 'Question',\n",
       " 'Physical force',\n",
       " 'Refusal to process civilian complaint',\n",
       " 'Sexual orientation',\n",
       " 'Word',\n",
       " 'Retaliatory summons',\n",
       " 'Search (of person)',\n",
       " 'Pepper spray',\n",
       " 'Handcuffs too tight',\n",
       " 'Frisk',\n",
       " 'Strip-searched',\n",
       " 'Threat of force (verbal or physical)',\n",
       " 'Stop',\n",
       " 'Refusal to obtain medical treatment',\n",
       " 'Hit against inanimate object',\n",
       " 'Frisk and/or search',\n",
       " 'Question and/or stop',\n",
       " 'Premises entered and/or searched',\n",
       " 'Gun Drawn',\n",
       " 'Nonlethal restraining device',\n",
       " 'Retaliatory arrest',\n",
       " 'Seizure of property',\n",
       " 'Chokehold',\n",
       " 'Gender',\n",
       " 'Nightstick as club (incl asp & baton)',\n",
       " 'Threat to notify ACS',\n",
       " 'Other blunt instrument as a club',\n",
       " 'Interference with recording',\n",
       " 'Threat to damage/seize property',\n",
       " 'Gesture',\n",
       " 'Forcible Removal to Hospital',\n",
       " 'Entry of Premises',\n",
       " 'Ethnicity',\n",
       " 'Other - Force',\n",
       " 'Search of Premises',\n",
       " 'Threat re: removal to hospital',\n",
       " 'Photography/Videography',\n",
       " 'Demeanor/tone',\n",
       " 'Curse',\n",
       " 'Dragged/Pulled',\n",
       " 'Push/Shove',\n",
       " 'Detention',\n",
       " 'Other- Discourtesy',\n",
       " 'Mace',\n",
       " 'Restricted Breathing',\n",
       " 'Body Cavity Searches',\n",
       " 'Electronic device information deletion',\n",
       " 'Search of recording device',\n",
       " 'Nasty Words',\n",
       " 'Nightstick/Billy/Club',\n",
       " 'Black',\n",
       " 'Other - Abuse',\n",
       " 'Property Seized',\n",
       " 'Threat to Property',\n",
       " 'Religion',\n",
       " 'Hispanic',\n",
       " 'Sexual Misconduct (Sexual Humiliation)',\n",
       " 'Punch/Kick',\n",
       " 'Beat',\n",
       " 'Other - Ethnic Slur',\n",
       " 'Sex Miscon (Sexual/Romantic Proposition)',\n",
       " 'Gun pointed/gun drawn',\n",
       " 'Improper dissemination of medical info',\n",
       " 'Person Searched',\n",
       " 'Physical disability',\n",
       " 'Arrest/Onlooker',\n",
       " 'Failed to Obtain Language Interpretation',\n",
       " 'Rude Gesture',\n",
       " 'Jewish',\n",
       " 'Gay/Lesbian Slur',\n",
       " 'Premise Searched',\n",
       " 'Arrest/D. A. T.',\n",
       " 'Oriental',\n",
       " 'Sh Refuse Cmp',\n",
       " 'Slap',\n",
       " 'Police shield',\n",
       " 'White',\n",
       " 'Profane Gesture',\n",
       " 'Animal',\n",
       " 'Gender Identity',\n",
       " 'officer_id',\n",
       " 'outcome',\n",
       " 'officer_charged',\n",
       " 'complaint_id',\n",
       " 'board_disposition']"
      ]
     },
     "execution_count": 13,
     "metadata": {},
     "output_type": "execute_result"
    }
   ],
   "source": [
    "list(df2.columns)"
   ]
  }
 ],
 "metadata": {
  "kernelspec": {
   "display_name": "Python 3",
   "language": "python",
   "name": "python3"
  },
  "language_info": {
   "codemirror_mode": {
    "name": "ipython",
    "version": 3
   },
   "file_extension": ".py",
   "mimetype": "text/x-python",
   "name": "python",
   "nbconvert_exporter": "python",
   "pygments_lexer": "ipython3",
   "version": "3.7.4"
  }
 },
 "nbformat": 4,
 "nbformat_minor": 2
}
